{
 "cells": [
  {
   "cell_type": "code",
   "execution_count": 1,
   "metadata": {},
   "outputs": [],
   "source": [
    "with open(\"Data/Day_15_warehouse.txt\") as file:\n",
    "    warehouse = [line.strip() for line in file.readlines()]\n",
    "    \n",
    "# Parsing the movements input as a single string to avoid multi-step iteration\n",
    "with open(\"Data/Day_15_movements.txt\") as file:\n",
    "    movements = \"\".join([line.strip() for line in file.readlines()])"
   ]
  },
  {
   "cell_type": "markdown",
   "metadata": {},
   "source": [
    "## Part 1"
   ]
  },
  {
   "cell_type": "code",
   "execution_count": 30,
   "metadata": {},
   "outputs": [],
   "source": [
    "# Parsing the input grid (warehouse)\n",
    "robot_pos = None\n",
    "box_positions = set()\n",
    "walls = set()\n",
    "for r, row in enumerate(warehouse):\n",
    "    for c, cell in enumerate(row):\n",
    "        \n",
    "        if cell == \"@\":\n",
    "            robot_pos = (r, c)  # Determines initial robot position\n",
    "        elif cell == \"O\":\n",
    "            box_positions.add((r, c))  # Determines box positions\n",
    "        elif cell == \"#\":\n",
    "            walls.add((r, c))  # Determines wall positions"
   ]
  },
  {
   "cell_type": "code",
   "execution_count": 2,
   "metadata": {},
   "outputs": [],
   "source": [
    "directions = {\n",
    "    \"<\": (0, -1),\n",
    "    \">\": (0, 1),\n",
    "    \"^\": (-1, 0),\n",
    "    \"v\": (1, 0)\n",
    "}"
   ]
  },
  {
   "cell_type": "code",
   "execution_count": 32,
   "metadata": {},
   "outputs": [],
   "source": [
    "def can_move_boxes(robot_pos, delta, is_row, box_positions, walls):\n",
    "    \"\"\"\n",
    "    Check if all boxes in the row or column can be moved in the given direction.\n",
    "\n",
    "    Args:\n",
    "        robot_pos (tuple): The robot's position.\n",
    "        delta (int): The movement direction (-1 or 1).\n",
    "        is_row (bool): Whether we are moving in a row (True) or column (False).\n",
    "        box_positions (set): Current positions of all boxes.\n",
    "        walls (set): Current positions of all walls.\n",
    "\n",
    "    Returns:\n",
    "        bool: Whether all boxes can be moved.\n",
    "    \"\"\"\n",
    "    \n",
    "    r, c = robot_pos\n",
    "    lead_box = None\n",
    "    to_check = []\n",
    "    \n",
    "    # Traverse in the direction to collect boxes and identify the lead box\n",
    "    while (r, c + delta) in box_positions if is_row else (r + delta, c) in box_positions:\n",
    "        next_pos = (r, c + delta) if is_row else (r + delta, c)\n",
    "        to_check.append(next_pos)\n",
    "        r, c = next_pos\n",
    "\n",
    "    # Check if the lead box has space to move\n",
    "    lead_box = to_check[-1] if to_check else None\n",
    "    if lead_box:\n",
    "        next_pos = (lead_box[0], lead_box[1] + delta) if is_row else (lead_box[0] + delta, lead_box[1])\n",
    "        if next_pos in walls:\n",
    "            return False\n",
    "\n",
    "    return True"
   ]
  },
  {
   "cell_type": "code",
   "execution_count": 33,
   "metadata": {},
   "outputs": [],
   "source": [
    "def move_boxes(robot_pos, delta, is_row, box_positions):\n",
    "    \"\"\"\n",
    "    Move all boxes in the row or column in the given direction.\n",
    "\n",
    "    Args:\n",
    "        robot_pos (tuple): The robot's position.\n",
    "        delta (int): The movement direction (-1 or 1).\n",
    "        is_row (bool): Whether we are moving in a row (True) or column (False).\n",
    "        box_positions (set): Current positions of all boxes.\n",
    "    \"\"\"\n",
    "    \n",
    "    r, c = robot_pos\n",
    "    to_move = []\n",
    "\n",
    "    # Traverse in the direction to collect boxes\n",
    "    while (r, c + delta) in box_positions if is_row else (r  + delta, c) in box_positions:\n",
    "        next_pos = (r, c  + delta) if is_row else (r  + delta, c)\n",
    "        to_move.append(next_pos)\n",
    "        r, c = next_pos\n",
    "\n",
    "    # Move boxes from the farthest to the nearest\n",
    "    for pos in reversed(to_move):\n",
    "        box_positions.remove(pos)\n",
    "        new_pos = (pos[0], pos[1] + delta) if is_row else (pos[0] + delta, pos[1])\n",
    "        box_positions.add(new_pos)"
   ]
  },
  {
   "cell_type": "code",
   "execution_count": 34,
   "metadata": {},
   "outputs": [],
   "source": [
    "def simulate_moves(robot_pos, box_positions, walls, moves):\n",
    "    \"\"\"\n",
    "    Simulate the robot's movements based on the rules.\n",
    "\n",
    "    Args:\n",
    "        grid (list of str): The warehouse grid.\n",
    "        robot_pos (tuple): The robot's initial position.\n",
    "        box_positions (set): The initial positions of the boxes.\n",
    "        walls (set): The positions of the walls.\n",
    "        moves (str): The movement string.\n",
    "\n",
    "    Returns:\n",
    "        set: Final positions of the boxes.\n",
    "    \"\"\"\n",
    "    \n",
    "    for move in moves:\n",
    "        dr, dc = directions[move]\n",
    "        new_robot_pos = (robot_pos[0] + dr, robot_pos[1] + dc)\n",
    "\n",
    "        # Check if the robot can move\n",
    "        if new_robot_pos in walls:\n",
    "            continue  # Hit a wall\n",
    "\n",
    "        if new_robot_pos in box_positions:\n",
    "            # Handle box movement logic based on direction\n",
    "            is_row = dr == 0\n",
    "            delta = dc if is_row else dr\n",
    "\n",
    "            if can_move_boxes(robot_pos, delta, is_row, box_positions, walls):\n",
    "                move_boxes(robot_pos, delta, is_row, box_positions)\n",
    "            else:\n",
    "                continue  # Boxes cannot move, skip this move\n",
    "\n",
    "        # Update robot position\n",
    "        robot_pos = new_robot_pos\n",
    "\n",
    "    return box_positions"
   ]
  },
  {
   "cell_type": "code",
   "execution_count": 35,
   "metadata": {},
   "outputs": [],
   "source": [
    "final_box_positions = simulate_moves(robot_pos, box_positions, walls, movements)"
   ]
  },
  {
   "cell_type": "code",
   "execution_count": 36,
   "metadata": {},
   "outputs": [
    {
     "data": {
      "text/plain": [
       "1426855"
      ]
     },
     "execution_count": 36,
     "metadata": {},
     "output_type": "execute_result"
    }
   ],
   "source": [
    "sum(100 * r + c for r, c in box_positions)"
   ]
  },
  {
   "cell_type": "markdown",
   "metadata": {},
   "source": [
    "## Part 2 (Incomplete)"
   ]
  },
  {
   "cell_type": "code",
   "execution_count": 3,
   "metadata": {},
   "outputs": [],
   "source": [
    "# Scale up the warehouse grid by doubling widths\n",
    "scaled_grid = []\n",
    "for row in warehouse:\n",
    "    scaled_row = \"\"\n",
    "    \n",
    "    for cell in row:\n",
    "        \n",
    "        if cell == \"#\":\n",
    "            scaled_row += \"##\"\n",
    "        elif cell == \"O\":\n",
    "            scaled_row += \"[]\"\n",
    "        elif cell == \".\":\n",
    "            scaled_row += \"..\"\n",
    "        else:  # Robot position (@)\n",
    "            scaled_row += cell\n",
    "            \n",
    "    scaled_grid.append(scaled_row)"
   ]
  },
  {
   "cell_type": "code",
   "execution_count": null,
   "metadata": {},
   "outputs": [],
   "source": [
    "warehouse"
   ]
  },
  {
   "cell_type": "code",
   "execution_count": 4,
   "metadata": {},
   "outputs": [
    {
     "data": {
      "text/plain": [
       "['####################################################################################################',\n",
       " '##..................[]##......[]..[][]..[][]..[]####[][]....##....[]##[]..[]..................[]..##',\n",
       " '####........##..##..[]##..[]....[]......[]..[]......[]........##..[][]..[]..[]....##..[]..........##',\n",
       " '##..[]..[]....##......[][]..........##[][][]..............[][]................................[]..##',\n",
       " '##....[]....##..[]####......##..##..........[]......[]..[]..........[]....[]..[]............##..####',\n",
       " '##..##....##..[]......[]......[]......[]..[]................[]....##[]..[]....##....##[]........[]##',\n",
       " '##......[]##....##....##..[]..[]..[]....[][]..[]......##..........##[]......##............##......##',\n",
       " '####..[]....[]............[][]........[]....[][]..##..[]........####..[]..........##....[]....##..##',\n",
       " '##[]....##......[]....[]..................[][][]..........[][]........[]............[]......[]....##',\n",
       " '##..........[]......[]................[]##..[][]##..[]..[]........[]....##..##..##[]..##..[]....####',\n",
       " '##[][]....##[]..............[]..[]............[]....[]....[]..[]..[]....................##[]..[]..##',\n",
       " '##[]....[]..##................##......[]......##[]........[][]..[]....................##........[]##',\n",
       " '##[]..##..[]......[]..[]##............##............##........[]....##..[]....[]##............[]..##',\n",
       " '##..[]..[][]....[][]..............[]........##....[][]..[]..................##[]........[][]......##',\n",
       " '##[]..........[]..[]....[]........[]..[]....##....[][][]....[][]..[]................[][]....##....##',\n",
       " '##......[]..[]............[]......[][]......####..........##..[][]..........[][][]##........[]##[]##',\n",
       " '##[]............[]......[][]..........[]##[]....[]##....[][]..##................##[]##........[]..##',\n",
       " '##..##[]............[]........##..[]..........[]..[]..##[][]..##..[]..[]..##......##..........######',\n",
       " '####....[][]##....[][]..[]..[][][][]..[]......[]..........................[]####..[]......[]....[]##',\n",
       " '##......##..........[]................##..[]..................[][]..........[]..[]..[][]..[]..[]..##',\n",
       " '######[]........[]..........[]............[]..[]..[]##[]............[]......[]........[]..##......##',\n",
       " '##....[]......[]##................[]..[]............##..##..[]........[]..[]....[]..[]..[]......####',\n",
       " '##[]##..[]....[]........[]....[]....[]..##[]..##[][][][]..[]........[]......[]....[][]..[]....##..##',\n",
       " '##....[]........[][]..[]......##[]....[]..[]........[][]..............##..................##......##',\n",
       " '##[]....[][]........##[]....##......##..........@....##......[]......##..##..[][]..[][]..........##',\n",
       " '##..[]........[]##[][]..........[][][]......##..[]..##....[]....[][][][][]........[]......[][]....##',\n",
       " '##........[]..##..##........[]..[][][]..........[][]....[]..[][]##[]..##........[][]........[]##..##',\n",
       " '##[]........[]............[]....[][]........[][]..##....[]..[]............[][][][]..[][][][]..[]..##',\n",
       " '##[]..[]............[][]............[]..................[]..[]..[]............[]..[][]....[]..[][]##',\n",
       " '##..[][]......[][]....[]........##[]..........[][]............[][][]....##........[]..##[]......[]##',\n",
       " '##......[]..........[]....##........[]##..[]....[][]......##........[][][][]......[][]....[]..[][]##',\n",
       " '##........[]..[][]................[]..##[]..........##..[]##..............##..[]##....[]..[]..[][]##',\n",
       " '##............##....##......[]....[]....##..[][][]......##....[]......##..[]..[]....[][][]..[]..[]##',\n",
       " '##[]##........##....##......[]................[]......##[][]##[]..##......[]......[]........[]##[]##',\n",
       " '##..............[]....[]....[][][][][]..####..........[]....[]..............##..[]........[][]....##',\n",
       " '##........[]......[]##..[][]....[][]......[][]..##................[]####[]..[]..[]..[]..........####',\n",
       " '##[]....[][]..[][]....[]..[]##..[]....[]............[]..............[][]..[]..............##..[]..##',\n",
       " '##....[]....##[]..[]......................................[]......##......[]....##..[][]........####',\n",
       " '##..........##..##....[][]......[][][][]..........[][]......##....##................##....[]....[]##',\n",
       " '##..[]....[]......[]..[]..##..[]..##..[][]....[]....................[]..[]......##........##......##',\n",
       " '##..[][]##..[]......[][]....[][][][]....[][]......[]..[]..##..[]......##[]......##........##....[]##',\n",
       " '##..[]........[]##[]......##[]....................##[]....[]............[]..[][][]####[]##..[]..[]##',\n",
       " '##........####..[]##..[][]..[]##......##......[]....[]......[]..........##..##..[]##[][]..##....[]##',\n",
       " '##....##[]............##[]........[][]..........##................[]..[][]##......[]........[]....##',\n",
       " '##..[]##....[]##[]....[][]........[]##....##........##[][]..[]##[]........##..........[][][][][]..##',\n",
       " '##..##....[][]..[]..........##[]..........[]####........................[]..[]......[]............##',\n",
       " '##..[]......[][][]..[]..[]......[]##[]..[]........................[][]........##[][]..[]....##....##',\n",
       " '##........##..####[][]....##........[]....[]..........[][]....[]....................##[]....[][]..##',\n",
       " '##..##......[]......[][][][]........[]........[]......[]..[]..........[]........[]..........##....##',\n",
       " '####################################################################################################']"
      ]
     },
     "execution_count": 4,
     "metadata": {},
     "output_type": "execute_result"
    }
   ],
   "source": [
    "scaled_grid"
   ]
  },
  {
   "cell_type": "code",
   "execution_count": 5,
   "metadata": {},
   "outputs": [],
   "source": [
    "robot_pos = None\n",
    "box_positions = set()\n",
    "walls = set()\n",
    "for r, row in enumerate(scaled_grid):\n",
    "    for c, cell in enumerate(row):\n",
    "        \n",
    "        if cell == \"@\":\n",
    "            robot_pos = (r, c)\n",
    "        elif cell in [\"[\", \"]\"]:\n",
    "            box_positions.add((r, c))\n",
    "        elif cell == \"#\":\n",
    "            walls.add((r, c))"
   ]
  },
  {
   "cell_type": "code",
   "execution_count": 6,
   "metadata": {},
   "outputs": [],
   "source": [
    "def can_move_boxes_part_2(grid, robot_pos, delta, is_row, box_positions, walls):\n",
    "    \"\"\"\n",
    "    Check if all boxes in the row or column can be moved in the given direction.\n",
    "\n",
    "    Args:\n",
    "        grid (list of str): The warehouse grid.\n",
    "        robot_pos (tuple): The robot's position.\n",
    "        delta (int): The movement direction (-1 or 1).\n",
    "        is_row (bool): Whether we are moving in a row (True) or column (False).\n",
    "        box_positions (set): Current positions of all boxes.\n",
    "        walls (set): Current positions of all walls.\n",
    "\n",
    "    Returns:\n",
    "        bool: Whether all boxes can move.\n",
    "    \"\"\"\n",
    "    \n",
    "    r, c = robot_pos\n",
    "    to_check = []\n",
    "\n",
    "    # Traverse to collect all boxes and identify the lead box\n",
    "    while (r, c + delta) in box_positions if is_row else (r + delta, c) in box_positions:\n",
    "        next_pos = (r, c + delta) if is_row else (r + delta, c)\n",
    "        to_check.append(next_pos)\n",
    "        r, c = next_pos\n",
    "\n",
    "    # Check if all boxes can move\n",
    "    for box_pos in to_check:\n",
    "        if is_row:\n",
    "            lead_pos = (box_pos[0], box_pos[1] + delta)\n",
    "            adjacent_pos = (box_pos[0], box_pos[1] + 1 if delta > 0 else box_pos[1] - 1)\n",
    "        elif grid[box_pos[0]][box_pos[1]] == \"[\":\n",
    "            lead_pos = (box_pos[0] + delta, box_pos[1])\n",
    "            adjacent_pos = (box_pos[0], box_pos[1] + 1)\n",
    "        elif grid[box_pos[0]][box_pos[1]] == \"]\":\n",
    "            lead_pos = (box_pos[0] + delta, box_pos[1])\n",
    "            adjacent_pos = (box_pos[0], box_pos[1] - 1)\n",
    "        else:\n",
    "            return False  # Invalid state\n",
    "            \n",
    "        if lead_pos in walls or adjacent_pos in walls: #or lead_pos in box_positions or adjacent_pos in box_positions:\n",
    "            return False\n",
    "\n",
    "    return True"
   ]
  },
  {
   "cell_type": "code",
   "execution_count": 7,
   "metadata": {},
   "outputs": [],
   "source": [
    "def move_boxes_part_2(grid, robot_pos, delta, is_row, box_positions):\n",
    "    \"\"\"\n",
    "    Move all boxes in the row or column in the given direction.\n",
    "\n",
    "    Args:\n",
    "        grid (list of str): The warehouse grid.\n",
    "        robot_pos (tuple): The robot's position.\n",
    "        delta (int): The movement direction (-1 or 1).\n",
    "        is_row (bool): Whether we are moving in a row (True) or column (False).\n",
    "        box_positions (set): Current positions of all boxes.\n",
    "    \"\"\"\n",
    "    \n",
    "    r, c = robot_pos\n",
    "    to_move = []\n",
    "\n",
    "    # Traverse to collect all boxes\n",
    "    while (r, c + delta) in box_positions if is_row else (r + delta, c) in box_positions:\n",
    "        next_pos = (r, c + delta) if is_row else (r + delta, c)\n",
    "        to_move.append(next_pos)\n",
    "        r, c = next_pos\n",
    "\n",
    "    # Move boxes from farthest to nearest\n",
    "    for pos in reversed(to_move):\n",
    "        \n",
    "        # Remove both parts of the wide box\n",
    "        box_positions.remove(pos)\n",
    "        grid[pos[0]] = grid[pos[0]][:pos[1]] + \".\" + grid[pos[0]][pos[1] + 1:]\n",
    "        \n",
    "        # Determine adjacent part of the box segment being pushed\n",
    "        if is_row:                         # Horizontal movement\n",
    "            adjacent_pos = (pos[0], pos[1] + 1 if delta > 0 else pos[1] - 1)\n",
    "        elif grid[pos[0]][pos[1]] == \"[\":  # Vertical movement, pushing on left half of the box\n",
    "            adjacent_pos = (pos[0], pos[1] + 1)\n",
    "        elif grid[pos[0]][pos[1]] == \"]\":  # Vertical movement, pushing on right half of the box\n",
    "            adjacent_pos = (pos[0], pos[1] - 1)\n",
    "            \n",
    "        if adjacent_pos in box_positions:\n",
    "            box_positions.remove(adjacent_pos)\n",
    "            grid[adjacent_pos[0]] = grid[adjacent_pos[0]][:adjacent_pos[1]] + \".\" + grid[adjacent_pos[0]][adjacent_pos[1] + 1:]\n",
    "\n",
    "        # Determine new positions for both parts of the wide box\n",
    "        new_pos = (pos[0], pos[1] + delta) if is_row else (pos[0] + delta, pos[1])\n",
    "        \n",
    "        if grid[pos[0]][pos[1]] == \"[\":\n",
    "            new_adjacent_pos = (new_pos[0], new_pos[1] + 1)\n",
    "        elif grid[pos[0]][pos[1]] == \"]\":\n",
    "            new_adjacent_pos = (new_pos[0], new_pos[1] - 1)\n",
    "            \n",
    "        grid[new_pos[0]] = grid[new_pos[0]][:new_pos[1]] + \"[\" + grid[new_pos[0]][new_pos[1] + 1:]\n",
    "        grid[new_adjacent_pos[0]] = grid[new_adjacent_pos[0]][:new_adjacent_pos[1]] + \"]\" + grid[new_adjacent_pos[0]][new_adjacent_pos[1] + 1:]\n",
    "\n",
    "        # Add the new positions of both parts of the box\n",
    "        box_positions.add(new_pos)\n",
    "        box_positions.add(new_adjacent_pos)\n",
    "        \n",
    "    # Update robot position on grid\n",
    "    grid[robot_pos[0]] = grid[robot_pos[0]][:robot_pos[1]] + \".\" + grid[robot_pos[0]][robot_pos[1] + 1:]\n",
    "    new_robot_pos = (robot_pos[0] + delta if not is_row else robot_pos[0], robot_pos[1] + delta if is_row else robot_pos[1])\n",
    "    grid[new_robot_pos[0]] = grid[new_robot_pos[0]][:new_robot_pos[1]] + \"@\" + grid[new_robot_pos[0]][new_robot_pos[1] + 1:]\n",
    "    \n",
    "    return new_robot_pos"
   ]
  },
  {
   "cell_type": "code",
   "execution_count": 8,
   "metadata": {},
   "outputs": [],
   "source": [
    "def simulate_moves_part_2(robot_pos, box_positions, walls, moves):\n",
    "    \"\"\"\n",
    "    Simulate the robot's movements based on the rules.\n",
    "\n",
    "    Args:\n",
    "        grid (list of str): The warehouse grid.\n",
    "        robot_pos (tuple): The robot's initial position.\n",
    "        box_positions (set): The initial positions of the boxes.\n",
    "        walls (set): The positions of the walls.\n",
    "        moves (str): The movement string.\n",
    "\n",
    "    Returns:\n",
    "        set: Final positions of the boxes.\n",
    "    \"\"\"\n",
    "    \n",
    "    for move in moves:\n",
    "        dr, dc = directions[move]\n",
    "        new_robot_pos = (robot_pos[0] + dr, robot_pos[1] + dc)\n",
    "\n",
    "        # Check if the robot can move\n",
    "        if new_robot_pos in walls:\n",
    "            continue  # Hit a wall\n",
    "\n",
    "        if new_robot_pos in box_positions:\n",
    "            # Handle box movement logic based on direction\n",
    "            is_row = dr == 0\n",
    "            delta = dc if is_row else dr\n",
    "\n",
    "            if can_move_boxes_part_2(scaled_grid, robot_pos, delta, is_row, box_positions, walls):\n",
    "                move_boxes_part_2(scaled_grid, robot_pos, delta, is_row, box_positions)\n",
    "            else:\n",
    "                continue  # Boxes cannot move, skip this move\n",
    "\n",
    "        # Update robot position\n",
    "        robot_pos = new_robot_pos\n",
    "\n",
    "    return box_positions"
   ]
  },
  {
   "cell_type": "code",
   "execution_count": 9,
   "metadata": {},
   "outputs": [
    {
     "ename": "UnboundLocalError",
     "evalue": "cannot access local variable 'adjacent_pos' where it is not associated with a value",
     "output_type": "error",
     "traceback": [
      "\u001b[1;31m---------------------------------------------------------------------------\u001b[0m",
      "\u001b[1;31mUnboundLocalError\u001b[0m                         Traceback (most recent call last)",
      "Cell \u001b[1;32mIn[9], line 1\u001b[0m\n\u001b[1;32m----> 1\u001b[0m final_box_positions \u001b[38;5;241m=\u001b[39m simulate_moves_part_2(robot_pos, box_positions, walls, movements)\n",
      "Cell \u001b[1;32mIn[8], line 30\u001b[0m, in \u001b[0;36msimulate_moves_part_2\u001b[1;34m(robot_pos, box_positions, walls, moves)\u001b[0m\n\u001b[0;32m     27\u001b[0m delta \u001b[38;5;241m=\u001b[39m dc \u001b[38;5;28;01mif\u001b[39;00m is_row \u001b[38;5;28;01melse\u001b[39;00m dr\n\u001b[0;32m     29\u001b[0m \u001b[38;5;28;01mif\u001b[39;00m can_move_boxes_part_2(scaled_grid, robot_pos, delta, is_row, box_positions, walls):\n\u001b[1;32m---> 30\u001b[0m     move_boxes_part_2(scaled_grid, robot_pos, delta, is_row, box_positions)\n\u001b[0;32m     31\u001b[0m \u001b[38;5;28;01melse\u001b[39;00m:\n\u001b[0;32m     32\u001b[0m     \u001b[38;5;28;01mcontinue\u001b[39;00m  \u001b[38;5;66;03m# Boxes cannot move, skip this move\u001b[39;00m\n",
      "Cell \u001b[1;32mIn[7], line 37\u001b[0m, in \u001b[0;36mmove_boxes_part_2\u001b[1;34m(grid, robot_pos, delta, is_row, box_positions)\u001b[0m\n\u001b[0;32m     34\u001b[0m \u001b[38;5;28;01melif\u001b[39;00m grid[pos[\u001b[38;5;241m0\u001b[39m]][pos[\u001b[38;5;241m1\u001b[39m]] \u001b[38;5;241m==\u001b[39m \u001b[38;5;124m\"\u001b[39m\u001b[38;5;124m]\u001b[39m\u001b[38;5;124m\"\u001b[39m:  \u001b[38;5;66;03m# Vertical movement, pushing on right half of the box\u001b[39;00m\n\u001b[0;32m     35\u001b[0m     adjacent_pos \u001b[38;5;241m=\u001b[39m (pos[\u001b[38;5;241m0\u001b[39m], pos[\u001b[38;5;241m1\u001b[39m] \u001b[38;5;241m-\u001b[39m \u001b[38;5;241m1\u001b[39m)\n\u001b[1;32m---> 37\u001b[0m \u001b[38;5;28;01mif\u001b[39;00m adjacent_pos \u001b[38;5;129;01min\u001b[39;00m box_positions:\n\u001b[0;32m     38\u001b[0m     box_positions\u001b[38;5;241m.\u001b[39mremove(adjacent_pos)\n\u001b[0;32m     39\u001b[0m     grid[adjacent_pos[\u001b[38;5;241m0\u001b[39m]] \u001b[38;5;241m=\u001b[39m grid[adjacent_pos[\u001b[38;5;241m0\u001b[39m]][:adjacent_pos[\u001b[38;5;241m1\u001b[39m]] \u001b[38;5;241m+\u001b[39m \u001b[38;5;124m\"\u001b[39m\u001b[38;5;124m.\u001b[39m\u001b[38;5;124m\"\u001b[39m \u001b[38;5;241m+\u001b[39m grid[adjacent_pos[\u001b[38;5;241m0\u001b[39m]][adjacent_pos[\u001b[38;5;241m1\u001b[39m] \u001b[38;5;241m+\u001b[39m \u001b[38;5;241m1\u001b[39m:]\n",
      "\u001b[1;31mUnboundLocalError\u001b[0m: cannot access local variable 'adjacent_pos' where it is not associated with a value"
     ]
    }
   ],
   "source": [
    "final_box_positions = simulate_moves_part_2(robot_pos, box_positions, walls, movements)"
   ]
  },
  {
   "cell_type": "code",
   "execution_count": 16,
   "metadata": {},
   "outputs": [
    {
     "data": {
      "text/plain": [
       "1421545"
      ]
     },
     "execution_count": 16,
     "metadata": {},
     "output_type": "execute_result"
    }
   ],
   "source": [
    "sum(100 * r + c for r, c in box_positions if scaled_grid[r][c] == \"[\")"
   ]
  },
  {
   "cell_type": "code",
   "execution_count": 10,
   "metadata": {},
   "outputs": [
    {
     "data": {
      "text/plain": [
       "['####################################################################################################',\n",
       " '##..................[]##......[]..[][]..[][]..[]####[][]....##....[]##[]..[]..................[]..##',\n",
       " '####........##..##..[]##..[]....[]......[]..[]......[]........##..[][]..[]..[]....##..[]..........##',\n",
       " '##..[]..[]....##......[][]..........##[][][]..............[][]................................[]..##',\n",
       " '##....[]....##..[]####......##..##..........[]......[]..[]..........[]....[]..[]............##..####',\n",
       " '##..##....##..[]......[]......[]......[]..[]................[]....##[]..[]....##....##[]........[]##',\n",
       " '##......[]##....##....##..[]..[]..[]....[][]..[]......##..........##[]......##............##......##',\n",
       " '####..[]....[]............[][]........[]....[][]..##..[]........####..[]..........##....[]....##..##',\n",
       " '##[]....##......[]....[]..................[][][]..........[][]........[]............[]......[]....##',\n",
       " '##..........[]......[]................[]##..[][]##..[]..[]........[]....##..##..##[]..##..[]....####',\n",
       " '##[][]....##[]..............[]..[]............[]....[]....[]..[]..[]....................##[]..[]..##',\n",
       " '##[]....[]..##................##......[]......##[]........[][]..[]....................##........[]##',\n",
       " '##[]..##..[]......[]..[]##............##............##........[]....##..[]....[]##............[]..##',\n",
       " '##..[]..[][]....[][]..............[]........##....[][]..[]..................##[]........[][]......##',\n",
       " '##[]..........[]..[]....[]........[]..[]....##....[][][]....[][]..[]................[][]....##....##',\n",
       " '##......[]..[]............[]......[][]......####..........##..[][]..........[][][]##........[]##[]##',\n",
       " '##[]............[]......[][]..........[]##[]....[]##....[][]..##................##[]##........[]..##',\n",
       " '##..##[]............[]........##..[]..........[]..[]..##[][]..##..[]..[]..##......##..........######',\n",
       " '####....[][]##....[][]..[]..[][][][]..[]......[]..........................[]####..[]......[]....[]##',\n",
       " '##......##..........[]................##..[]..................[][]..........[]..[]..[][]..[]..[]..##',\n",
       " '######[]........[]..........[]............[]..[]..[]##[]............[]......[]........[]..##......##',\n",
       " '##....[]......[]##................[]..[]............##..##..[]........[]..[]....[]..[]..[]......####',\n",
       " '##[]##..[]....[]........[]....[]....[]..##[]..##.][][][]..[]........[]......[]....[][]..[]....##..##',\n",
       " '##....[]........[][]..[]......##[]....[]..[]........[][]..............##..................##......##',\n",
       " '##[]....[][]........##[]....##......##..........@....##......[]......##..##..[][]..[][]..........##',\n",
       " '##..[]........[]##[][]..........[][][]......##..[]..##....[]....[][][][][]........[]......[][]....##',\n",
       " '##........[]..##..##........[]..[][][]..........[][]....[]..[][]##[]..##........[][]........[]##..##',\n",
       " '##[]........[]............[]....[][]........[][]..##....[]..[]............[][][][]..[][][][]..[]..##',\n",
       " '##[]..[]............[][]............[]..................[]..[]..[]............[]..[][]....[]..[][]##',\n",
       " '##..[][]......[][]....[]........##[]..........[][]............[][][]....##........[]..##[]......[]##',\n",
       " '##......[]..........[]....##........[]##..[]....[][]......##........[][][][]......[][]....[]..[][]##',\n",
       " '##........[]..[][]................[]..##[]..........##..[]##..............##..[]##....[]..[]..[][]##',\n",
       " '##............##....##......[]....[]....##..[][][]......##....[]......##..[]..[]....[][][]..[]..[]##',\n",
       " '##[]##........##....##......[]................[]......##[][]##[]..##......[]......[]........[]##[]##',\n",
       " '##..............[]....[]....[][][][][]..####..........[]....[]..............##..[]........[][]....##',\n",
       " '##........[]......[]##..[][]....[][]......[][]..##................[]####[]..[]..[]..[]..........####',\n",
       " '##[]....[][]..[][]....[]..[]##..[]....[]............[]..............[][]..[]..............##..[]..##',\n",
       " '##....[]....##[]..[]......................................[]......##......[]....##..[][]........####',\n",
       " '##..........##..##....[][]......[][][][]..........[][]......##....##................##....[]....[]##',\n",
       " '##..[]....[]......[]..[]..##..[]..##..[][]....[]....................[]..[]......##........##......##',\n",
       " '##..[][]##..[]......[][]....[][][][]....[][]......[]..[]..##..[]......##[]......##........##....[]##',\n",
       " '##..[]........[]##[]......##[]....................##[]....[]............[]..[][][]####[]##..[]..[]##',\n",
       " '##........####..[]##..[][]..[]##......##......[]....[]......[]..........##..##..[]##[][]..##....[]##',\n",
       " '##....##[]............##[]........[][]..........##................[]..[][]##......[]........[]....##',\n",
       " '##..[]##....[]##[]....[][]........[]##....##........##[][]..[]##[]........##..........[][][][][]..##',\n",
       " '##..##....[][]..[]..........##[]..........[]####........................[]..[]......[]............##',\n",
       " '##..[]......[][][]..[]..[]......[]##[]..[]........................[][]........##[][]..[]....##....##',\n",
       " '##........##..####[][]....##........[]....[]..........[][]....[]....................##[]....[][]..##',\n",
       " '##..##......[]......[][][][]........[]........[]......[]..[]..........[]........[]..........##....##',\n",
       " '####################################################################################################']"
      ]
     },
     "execution_count": 10,
     "metadata": {},
     "output_type": "execute_result"
    }
   ],
   "source": [
    "scaled_grid"
   ]
  }
 ],
 "metadata": {
  "kernelspec": {
   "display_name": "advent",
   "language": "python",
   "name": "python3"
  },
  "language_info": {
   "codemirror_mode": {
    "name": "ipython",
    "version": 3
   },
   "file_extension": ".py",
   "mimetype": "text/x-python",
   "name": "python",
   "nbconvert_exporter": "python",
   "pygments_lexer": "ipython3",
   "version": "3.12.7"
  }
 },
 "nbformat": 4,
 "nbformat_minor": 2
}
