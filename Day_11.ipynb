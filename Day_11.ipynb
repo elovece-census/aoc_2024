{
 "cells": [
  {
   "cell_type": "code",
   "execution_count": 1,
   "metadata": {},
   "outputs": [],
   "source": [
    "stones = \"92 0 286041 8034 34394 795 8 2051489\"\n",
    "stones_list = stones.split()"
   ]
  },
  {
   "cell_type": "markdown",
   "metadata": {},
   "source": [
    "## Part 1"
   ]
  },
  {
   "cell_type": "code",
   "execution_count": 2,
   "metadata": {},
   "outputs": [
    {
     "name": "stdout",
     "output_type": "stream",
     "text": [
      "239714 ['3', '2', '7', '7', '2', '6', '16192', '4048', '1', '4048', '8096', '3', '6', '8', '6', '9', '1', '8', '4', '2']\n"
     ]
    }
   ],
   "source": [
    "# Evolve the stones over 25 blinks\n",
    "for i in range(25):\n",
    "\n",
    "    new_stones = []\n",
    "    for stone in stones_list:\n",
    "        \n",
    "        if stone == \"0\":\n",
    "            new_stones.append(\"1\")\n",
    "            \n",
    "        elif len(stone) % 2 == 0:\n",
    "            mid = len(stone) // 2\n",
    "            left = stone[:mid].lstrip(\"0\") or \"0\"\n",
    "            right = stone[mid:].lstrip(\"0\") or \"0\"\n",
    "            new_stones.extend([left, right])\n",
    "            \n",
    "        else:\n",
    "            new_stones.append(str(int(stone) * 2024))\n",
    "            \n",
    "    stones_list = new_stones\n",
    "\n",
    "print(len(stones_list), stones_list[:20])"
   ]
  },
  {
   "cell_type": "markdown",
   "metadata": {},
   "source": [
    "## Part 2"
   ]
  },
  {
   "cell_type": "markdown",
   "metadata": {},
   "source": [
    "#### Caching Attempt"
   ]
  },
  {
   "cell_type": "code",
   "execution_count": 1,
   "metadata": {},
   "outputs": [],
   "source": [
    "import os\n",
    "import math\n",
    "import functools\n",
    "import pickle\n",
    "import time\n",
    "from collections import deque"
   ]
  },
  {
   "cell_type": "code",
   "execution_count": 2,
   "metadata": {},
   "outputs": [],
   "source": [
    "# Path to stone and cache files\n",
    "CACHE_FILE = \"Data/stone_cache.pkl\"\n",
    "STATE_FILE = \"Data/stone_state.pkl\""
   ]
  },
  {
   "cell_type": "code",
   "execution_count": 3,
   "metadata": {},
   "outputs": [],
   "source": [
    "initial_stones = \"92 0 286041 8034 34394 795 8 2051489\"\n",
    "initial_stones_list = list(map(int, initial_stones.split()))"
   ]
  },
  {
   "cell_type": "code",
   "execution_count": 4,
   "metadata": {},
   "outputs": [],
   "source": [
    "@functools.lru_cache()\n",
    "def count_digits(n):\n",
    "    \"\"\" Returns the number of digits in a number. \"\"\"\n",
    "    if n == 0: return 1\n",
    "    return math.floor(math.log10(abs(n))) + 1"
   ]
  },
  {
   "cell_type": "code",
   "execution_count": 5,
   "metadata": {},
   "outputs": [],
   "source": [
    "@functools.lru_cache()\n",
    "def split_stone(stone):\n",
    "    \"\"\"\n",
    "    Splits a stone into two if it has an even number of digits.\n",
    "    \"\"\"\n",
    "    num_digits = count_digits(stone)\n",
    "            \n",
    "    # Convert to string for splitting\n",
    "    mid = num_digits // 2  # Determine middle index\n",
    "                    \n",
    "    # Split into left and right parts\n",
    "    left = stone // (10 ** mid)\n",
    "    right = stone % (10 ** mid)\n",
    "                    \n",
    "    return [left, right]"
   ]
  },
  {
   "cell_type": "code",
   "execution_count": 6,
   "metadata": {},
   "outputs": [],
   "source": [
    "def evolve_stone(stone, cache):\n",
    "    \"\"\"\n",
    "    Evolves a single stone based on the rules, with caching.\n",
    "    Rule 1: Stone `0` becomes `1`.\n",
    "    Rule 2: Stones with even digits are split into two.\n",
    "    Rule 3: Other stones are multiplied by 2024.\n",
    "    \"\"\"\n",
    "    if stone in cache: return cache[stone]\n",
    "            \n",
    "    # Compute transformation\n",
    "    if stone != 0 and count_digits(stone) % 2 == 0:\n",
    "        result = split_stone(stone)\n",
    "            \n",
    "    else:  # Rule 3\n",
    "        result = [stone * 2024]\n",
    "            \n",
    "    # Store in cache\n",
    "    cache[stone] = result\n",
    "    return result"
   ]
  },
  {
   "cell_type": "code",
   "execution_count": 7,
   "metadata": {},
   "outputs": [],
   "source": [
    "def save_state(stones_integers, blink, cache):\n",
    "    state = {\"stones\": stones_integers, \"blink\": blink}\n",
    "    \n",
    "    with open(STATE_FILE, 'wb') as f: pickle.dump(state, f)\n",
    "    with open(CACHE_FILE, 'wb') as f: pickle.dump(cache, f)"
   ]
  },
  {
   "cell_type": "code",
   "execution_count": 8,
   "metadata": {},
   "outputs": [],
   "source": [
    "# Initialize the cache adhering to Rule 1\n",
    "if os.path.exists(CACHE_FILE):\n",
    "    with open(CACHE_FILE, \"rb\") as f:\n",
    "        cache = pickle.load(f)\n",
    "else:\n",
    "    cache = {0: [1]}"
   ]
  },
  {
   "cell_type": "code",
   "execution_count": 10,
   "metadata": {},
   "outputs": [],
   "source": [
    "# Load state if it exists, otherwise initialize\n",
    "if os.path.exists(STATE_FILE):\n",
    "    with open(STATE_FILE, \"rb\") as f:\n",
    "        state = pickle.load(f)\n",
    "        stones_integers = state[\"stones\"]\n",
    "        start_blink = state[\"blink\"]\n",
    "        \n",
    "else:\n",
    "    stones_integers = initial_stones_list\n",
    "    start_blink = 0\n",
    "        "
   ]
  },
  {
   "cell_type": "code",
   "execution_count": 11,
   "metadata": {},
   "outputs": [],
   "source": [
    "save_step = 20\n",
    "total_blinks = 75\n",
    "save_interval = 300\n",
    "last_save_time = time.time()"
   ]
  },
  {
   "cell_type": "code",
   "execution_count": 14,
   "metadata": {},
   "outputs": [
    {
     "name": "stdout",
     "output_type": "stream",
     "text": [
      "Blink 41: 191820485 stones\n",
      "Blink 42: 290860273 stones\n",
      "Blink 43: 442478291 stones\n",
      "Blink 44: 671581769 stones\n",
      "Blink 45: 1020067167 stones\n",
      "Blink 46: 1550554346 stones\n",
      "Blink 47: 2352405527 stones\n",
      "Blink 48: 3576521900 stones\n"
     ]
    },
    {
     "ename": "",
     "evalue": "",
     "output_type": "error",
     "traceback": [
      "\u001b[1;31mCannot execute code, session has been disposed. Please try restarting the Kernel."
     ]
    },
    {
     "ename": "",
     "evalue": "",
     "output_type": "error",
     "traceback": [
      "\u001b[1;31mCannot execute code, session has been disposed. Please try restarting the Kernel. \n",
      "\u001b[1;31mView Jupyter <a href='command:jupyter.viewOutput'>log</a> for further details."
     ]
    }
   ],
   "source": [
    "try:\n",
    "    # Evaluate 75 blinks, saving every 5 minutes\n",
    "    for blink in range(start_blink, 50, save_step):\n",
    "        for step in range(save_step):\n",
    "            \n",
    "            if blink + step >= 50: break\n",
    "            \n",
    "            new_stones = deque()\n",
    "            for i, stone in enumerate(stones_integers):\n",
    "                evolved = evolve_stone(stone, cache)\n",
    "                new_stones.extend(evolved)\n",
    "                \n",
    "                if i % 1000 == 0:  # Save every 1000 stones processed\n",
    "                    stones_integers = list(new_stones)\n",
    "                    save_state(stones_integers, blink, cache)\n",
    "                    new_stones.clear()\n",
    "                \n",
    "            stones_integers = list(new_stones)\n",
    "            print(f\"Blink {blink + step + 1}: {len(stones_integers)} stones\")\n",
    "            \n",
    "            # Save every 5 minutes\n",
    "            current_time = time.time()\n",
    "            if current_time - last_save_time >= 300:\n",
    "                \n",
    "                # Save current state\n",
    "                save_state(stones_integers, blink + 1, cache)\n",
    "                last_save_time = current_time\n",
    "                \n",
    "except MemoryError:\n",
    "    print(\"Memory error encountered. Saving current progress...\")\n",
    "    save_state(stones_integers, blink, cache)\n",
    "\n",
    "except KeyboardInterrupt:\n",
    "    print(\"Processing stopped. Saving current progress...\")\n",
    "    save_state(stones_integers, blink, cache)\n",
    "    "
   ]
  },
  {
   "cell_type": "code",
   "execution_count": null,
   "metadata": {},
   "outputs": [],
   "source": [
    "# Final save after all blinks have elapsed\n",
    "save_state(stones_integers, blink, cache)"
   ]
  }
 ],
 "metadata": {
  "kernelspec": {
   "display_name": "advent",
   "language": "python",
   "name": "python3"
  },
  "language_info": {
   "codemirror_mode": {
    "name": "ipython",
    "version": 3
   },
   "file_extension": ".py",
   "mimetype": "text/x-python",
   "name": "python",
   "nbconvert_exporter": "python",
   "pygments_lexer": "ipython3",
   "version": "3.12.7"
  }
 },
 "nbformat": 4,
 "nbformat_minor": 2
}
