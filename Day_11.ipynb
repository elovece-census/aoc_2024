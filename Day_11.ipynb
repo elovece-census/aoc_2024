{
 "cells": [
  {
   "cell_type": "code",
   "execution_count": 1,
   "metadata": {},
   "outputs": [],
   "source": [
    "stones = \"92 0 286041 8034 34394 795 8 2051489\"\n",
    "stones_list = stones.split()"
   ]
  },
  {
   "cell_type": "markdown",
   "metadata": {},
   "source": [
    "## Part 1"
   ]
  },
  {
   "cell_type": "code",
   "execution_count": 2,
   "metadata": {},
   "outputs": [
    {
     "name": "stdout",
     "output_type": "stream",
     "text": [
      "239714 ['3', '2', '7', '7', '2', '6', '16192', '4048', '1', '4048', '8096', '3', '6', '8', '6', '9', '1', '8', '4', '2']\n"
     ]
    }
   ],
   "source": [
    "# Evolve the stones over 25 blinks\n",
    "for i in range(25):\n",
    "\n",
    "    new_stones = []\n",
    "    for stone in stones_list:\n",
    "        \n",
    "        if stone == \"0\":\n",
    "            new_stones.append(\"1\")\n",
    "            \n",
    "        elif len(stone) % 2 == 0:\n",
    "            mid = len(stone) // 2\n",
    "            left = stone[:mid].lstrip(\"0\") or \"0\"\n",
    "            right = stone[mid:].lstrip(\"0\") or \"0\"\n",
    "            new_stones.extend([left, right])\n",
    "            \n",
    "        else:\n",
    "            new_stones.append(str(int(stone) * 2024))\n",
    "            \n",
    "    stones_list = new_stones\n",
    "\n",
    "print(len(stones_list), stones_list[:20])"
   ]
  }
 ],
 "metadata": {
  "kernelspec": {
   "display_name": "advent",
   "language": "python",
   "name": "python3"
  },
  "language_info": {
   "codemirror_mode": {
    "name": "ipython",
    "version": 3
   },
   "file_extension": ".py",
   "mimetype": "text/x-python",
   "name": "python",
   "nbconvert_exporter": "python",
   "pygments_lexer": "ipython3",
   "version": "3.12.7"
  }
 },
 "nbformat": 4,
 "nbformat_minor": 2
}
