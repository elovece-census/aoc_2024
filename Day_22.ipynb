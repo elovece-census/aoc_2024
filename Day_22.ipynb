{
 "cells": [
  {
   "cell_type": "code",
   "execution_count": 1,
   "metadata": {},
   "outputs": [],
   "source": [
    "with open(\"Data/Day_22_content.txt\") as file:\n",
    "    initial_secrets = list(map(int, [line.strip() for line in file.readlines()]))"
   ]
  },
  {
   "cell_type": "markdown",
   "metadata": {},
   "source": [
    "## Part 1"
   ]
  },
  {
   "cell_type": "code",
   "execution_count": 2,
   "metadata": {},
   "outputs": [],
   "source": [
    "results = []\n",
    "MOD = 16777216  # 2^24\n",
    "for secret in initial_secrets:\n",
    "    for _ in range(2000):\n",
    "        \n",
    "        # Step 1: Multiply by 64, XOR, prune\n",
    "        secret = (secret ^ (secret * 64)) % MOD\n",
    "            \n",
    "        # Step 2: Divide by 32 (floor), XOR, prune\n",
    "        secret = (secret ^ (secret // 32)) % MOD\n",
    "            \n",
    "        # Step 3: Multiply by 2048, XOR, prune\n",
    "        secret = (secret ^ (secret * 2048)) % MOD\n",
    "        \n",
    "    results.append(secret)"
   ]
  },
  {
   "cell_type": "code",
   "execution_count": 3,
   "metadata": {},
   "outputs": [
    {
     "data": {
      "text/plain": [
       "14691757043"
      ]
     },
     "execution_count": 3,
     "metadata": {},
     "output_type": "execute_result"
    }
   ],
   "source": [
    "sum(results)"
   ]
  },
  {
   "cell_type": "markdown",
   "metadata": {},
   "source": [
    "## Part 2"
   ]
  },
  {
   "cell_type": "code",
   "execution_count": 4,
   "metadata": {},
   "outputs": [],
   "source": [
    "import numpy as np\n",
    "from itertools import product"
   ]
  },
  {
   "cell_type": "code",
   "execution_count": 5,
   "metadata": {},
   "outputs": [],
   "source": [
    "def generate_prices_vectorized(secret_numbers, steps=2000):\n",
    "    secrets = np.array(secret_numbers, dtype = np.uint64)\n",
    "    prices = np.zeros((len(secret_numbers), steps + 1), dtype = np.uint8)\n",
    "    MOD = 16777216\n",
    "    \n",
    "    for step in range(steps + 1):\n",
    "        # Generate price\n",
    "        \n",
    "        # Step 1: Multiply by 64, XOR, prune\n",
    "        secrets = (secrets ^ (secrets * 64)) % MOD\n",
    "            \n",
    "        # Step 2: Divide by 32 (floor), XOR, prune\n",
    "        secrets = (secrets ^ (secrets // 32)) % MOD\n",
    "            \n",
    "        # Step 3: Multiply by 2048, XOR, prune\n",
    "        secrets = (secrets ^ (secrets * 2048)) % MOD\n",
    "        prices[:, step] = secrets % 10\n",
    "\n",
    "    return prices"
   ]
  },
  {
   "cell_type": "code",
   "execution_count": 6,
   "metadata": {},
   "outputs": [],
   "source": [
    "# Generate prices and price changes\n",
    "prices = generate_prices_vectorized(initial_secrets)\n",
    "changes = np.diff(prices, axis = 1)\n",
    "\n",
    "# All possible 4-change sequences (-9 to 9)\n",
    "all_sequences = list(product(range(-9, 10), repeat=4))\n",
    "all_sequences_array = np.array(all_sequences, dtype=np.int8)\n",
    "sequence_length = all_sequences_array.shape[1]\n",
    "\n",
    "# Initialize max banana total and optimal sequence\n",
    "max_bananas = 0\n",
    "best_sequences = None"
   ]
  },
  {
   "cell_type": "code",
   "execution_count": 10,
   "metadata": {},
   "outputs": [
    {
     "ename": "KeyboardInterrupt",
     "evalue": "",
     "output_type": "error",
     "traceback": [
      "\u001b[1;31m---------------------------------------------------------------------------\u001b[0m",
      "\u001b[1;31mKeyboardInterrupt\u001b[0m                         Traceback (most recent call last)",
      "Cell \u001b[1;32mIn[10], line 16\u001b[0m\n\u001b[0;32m     13\u001b[0m matches \u001b[38;5;241m=\u001b[39m np\u001b[38;5;241m.\u001b[39mall(window_view \u001b[38;5;241m==\u001b[39m sequence_array, axis\u001b[38;5;241m=\u001b[39m\u001b[38;5;241m1\u001b[39m)\n\u001b[0;32m     15\u001b[0m \u001b[38;5;66;03m# Find first occurence and update total bananas if match is found\u001b[39;00m\n\u001b[1;32m---> 16\u001b[0m match_indices \u001b[38;5;241m=\u001b[39m np\u001b[38;5;241m.\u001b[39mwhere(matches)[\u001b[38;5;241m0\u001b[39m]\n\u001b[0;32m     17\u001b[0m \u001b[38;5;28;01mif\u001b[39;00m match_indices\u001b[38;5;241m.\u001b[39msize \u001b[38;5;241m>\u001b[39m \u001b[38;5;241m0\u001b[39m:\n\u001b[0;32m     18\u001b[0m     first_match_idx \u001b[38;5;241m=\u001b[39m match_indices[\u001b[38;5;241m0\u001b[39m]\n",
      "\u001b[1;31mKeyboardInterrupt\u001b[0m: "
     ]
    }
   ],
   "source": [
    "for seq_idx in range(all_sequences_array.shape[0]):\n",
    "    sequence_array = all_sequences_array[seq_idx]\n",
    "    total_bananas = 0\n",
    "    \n",
    "    # Use broadcasting and vectorization\n",
    "    for buyer_idx in range(changes.shape[0]):\n",
    "        buyer_changes = changes[buyer_idx]\n",
    "        \n",
    "        # Use sliding window view to compare sequences efficiently\n",
    "        window_view = np.lib.stride_tricks.sliding_window_view(buyer_changes, sequence_length)\n",
    "        \n",
    "        # Use broadcasting to find matching sequences\n",
    "        matches = np.all(window_view == sequence_array, axis=1)\n",
    "        \n",
    "        # Find first occurence and update total bananas if match is found\n",
    "        match_indices = np.where(matches)[0]\n",
    "        if match_indices.size > 0:\n",
    "            first_match_idx = match_indices[0]\n",
    "            total_bananas += prices[buyer_idx, first_match_idx + sequence_length]\n",
    "            \n",
    "    if total_bananas > max_bananas:\n",
    "        max_bananas = total_bananas\n",
    "        best_sequences = sequence_array.tolist()\n",
    "        "
   ]
  },
  {
   "cell_type": "code",
   "execution_count": null,
   "metadata": {},
   "outputs": [],
   "source": [
    "max_bananas"
   ]
  },
  {
   "cell_type": "code",
   "execution_count": null,
   "metadata": {},
   "outputs": [],
   "source": []
  }
 ],
 "metadata": {
  "kernelspec": {
   "display_name": "advent",
   "language": "python",
   "name": "python3"
  },
  "language_info": {
   "codemirror_mode": {
    "name": "ipython",
    "version": 3
   },
   "file_extension": ".py",
   "mimetype": "text/x-python",
   "name": "python",
   "nbconvert_exporter": "python",
   "pygments_lexer": "ipython3",
   "version": "3.12.7"
  }
 },
 "nbformat": 4,
 "nbformat_minor": 2
}
