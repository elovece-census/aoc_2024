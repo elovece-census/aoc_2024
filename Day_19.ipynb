{
 "cells": [
  {
   "cell_type": "code",
   "execution_count": 1,
   "metadata": {},
   "outputs": [],
   "source": [
    "with open(\"Data/Day_19_content.txt\") as file:\n",
    "    lines = file.readlines()\n",
    "    towel_patterns = [pattern.strip() for pattern in lines[0].split(\", \")]\n",
    "    designs = [des.strip() for des in lines[2:]]"
   ]
  },
  {
   "cell_type": "markdown",
   "metadata": {},
   "source": [
    "## Part 1"
   ]
  },
  {
   "cell_type": "code",
   "execution_count": 2,
   "metadata": {},
   "outputs": [],
   "source": [
    "class TrieNode:\n",
    "    def __init__(self):\n",
    "        self.children = {}\n",
    "        self.end_of_pattern = False"
   ]
  },
  {
   "cell_type": "code",
   "execution_count": 3,
   "metadata": {},
   "outputs": [],
   "source": [
    "root = TrieNode()\n",
    "\n",
    "for pattern in towel_patterns:\n",
    "    node = root\n",
    "    \n",
    "    for char in pattern:\n",
    "        \n",
    "        if char not in node.children:\n",
    "            node.children[char] = TrieNode()\n",
    "            \n",
    "        node = node.children[char]\n",
    "        \n",
    "    node.end_of_pattern = True"
   ]
  },
  {
   "cell_type": "code",
   "execution_count": 4,
   "metadata": {},
   "outputs": [
    {
     "data": {
      "text/plain": [
       "283"
      ]
     },
     "execution_count": 4,
     "metadata": {},
     "output_type": "execute_result"
    }
   ],
   "source": [
    "count = 0\n",
    "for design in designs:\n",
    "    n = len(design)\n",
    "    dp = [False] * (n + 1)  \n",
    "    dp[0] = True  # Empty design can always be created\n",
    "    \n",
    "    for i in range(1, n + 1):\n",
    "        for j in range(i - 1, -1, -1):\n",
    "            \n",
    "            node = root\n",
    "            segment_valid = True\n",
    "            \n",
    "            for k in range(j, i):\n",
    "                char = design[k]\n",
    "            \n",
    "                if char in node.children:\n",
    "                    node = node.children[char]\n",
    "                else:\n",
    "                    segment_valid = False\n",
    "                    break\n",
    "                \n",
    "            if segment_valid and node.end_of_pattern and dp[j]:\n",
    "                dp[i] = True\n",
    "                break\n",
    "            \n",
    "    if dp[n]: count += 1\n",
    "    \n",
    "count"
   ]
  },
  {
   "cell_type": "markdown",
   "metadata": {},
   "source": [
    "## Part 2"
   ]
  },
  {
   "cell_type": "code",
   "execution_count": 5,
   "metadata": {},
   "outputs": [],
   "source": [
    "from functools import lru_cache"
   ]
  },
  {
   "cell_type": "code",
   "execution_count": 19,
   "metadata": {},
   "outputs": [],
   "source": [
    "def can_create_design(design, towel_patterns):\n",
    "    @lru_cache(None)\n",
    "    def helper(remaining_design):\n",
    "        if remaining_design == \"\":\n",
    "            return 1\n",
    "        \n",
    "        design_total = 0\n",
    "        for towel in towel_patterns:\n",
    "            if remaining_design.startswith(towel):\n",
    "                design_total += helper(remaining_design[len(towel):])\n",
    "                \n",
    "        return design_total\n",
    "    \n",
    "    return helper(design)"
   ]
  },
  {
   "cell_type": "code",
   "execution_count": 22,
   "metadata": {},
   "outputs": [
    {
     "data": {
      "text/plain": [
       "615388132411142"
      ]
     },
     "execution_count": 22,
     "metadata": {},
     "output_type": "execute_result"
    }
   ],
   "source": [
    "sum(can_create_design(design, tuple(towel_patterns)) for design in designs)"
   ]
  }
 ],
 "metadata": {
  "kernelspec": {
   "display_name": "advent",
   "language": "python",
   "name": "python3"
  },
  "language_info": {
   "codemirror_mode": {
    "name": "ipython",
    "version": 3
   },
   "file_extension": ".py",
   "mimetype": "text/x-python",
   "name": "python",
   "nbconvert_exporter": "python",
   "pygments_lexer": "ipython3",
   "version": "3.12.7"
  }
 },
 "nbformat": 4,
 "nbformat_minor": 2
}
