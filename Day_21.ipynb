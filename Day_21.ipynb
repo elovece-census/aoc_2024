{
 "cells": [
  {
   "cell_type": "code",
   "execution_count": 2,
   "metadata": {},
   "outputs": [],
   "source": [
    "from collections import deque"
   ]
  },
  {
   "cell_type": "code",
   "execution_count": 3,
   "metadata": {},
   "outputs": [],
   "source": [
    "# Define keypads\n",
    "numeric_keypad = [\n",
    "    [\"7\", \"8\", \"9\"],\n",
    "    [\"4\", \"5\", \"6\"],\n",
    "    [\"1\", \"2\", \"3\"],\n",
    "    [\" \", \"0\", \"A\"]\n",
    "]\n",
    "\n",
    "control_keypad = [\n",
    "    [\" \", \"^\", \"A\"],\n",
    "    [\"<\", \"v\", \">\"]\n",
    "]"
   ]
  },
  {
   "cell_type": "code",
   "execution_count": 4,
   "metadata": {},
   "outputs": [],
   "source": [
    "# Input codes\n",
    "inputs = [\n",
    "\"459A\",\n",
    "\"671A\",\n",
    "\"846A\",\n",
    "\"285A\",\n",
    "\"083A\"\n",
    "]"
   ]
  },
  {
   "cell_type": "code",
   "execution_count": 5,
   "metadata": {},
   "outputs": [],
   "source": [
    "# Number of control keypads\n",
    "levels = 3"
   ]
  },
  {
   "cell_type": "markdown",
   "metadata": {},
   "source": [
    "## Part 1"
   ]
  },
  {
   "cell_type": "code",
   "execution_count": 6,
   "metadata": {},
   "outputs": [],
   "source": [
    "def build_keypad_grid(keypad):\n",
    "    \"\"\"Create a grid representation of the keypad.\"\"\"\n",
    "    grid = {}\n",
    "    for r, row in enumerate(keypad):\n",
    "        for c, key in enumerate(row):\n",
    "            if key != \" \":  # Skip gaps\n",
    "                grid[key] = (r, c)\n",
    "    return grid"
   ]
  },
  {
   "cell_type": "code",
   "execution_count": 7,
   "metadata": {},
   "outputs": [],
   "source": [
    "def bfs_shortest_path(start, target, grid):\n",
    "    \"\"\"Find the shortest path between two keys on the grid.\"\"\"\n",
    "    directions = {\n",
    "        'U': (-1, 0),\n",
    "        'D': (1, 0),\n",
    "        'L': (0, -1),\n",
    "        'R': (0, 1)\n",
    "    }\n",
    "    reverse_dir = {v: k for k, v in directions.items()}\n",
    "    \n",
    "    queue = deque([(start, [])])  # (current position, path to position)\n",
    "    visited = set()\n",
    "\n",
    "    while queue:\n",
    "        current, path = queue.popleft()\n",
    "\n",
    "        if current == target:\n",
    "            return path\n",
    "\n",
    "        if current in visited:\n",
    "            continue\n",
    "        visited.add(current)\n",
    "\n",
    "        for d, (dr, dc) in directions.items():\n",
    "            next_pos = (current[0] + dr, current[1] + dc)\n",
    "            if next_pos in grid.values():\n",
    "                queue.append((next_pos, path + [reverse_dir[(dr, dc)]]))"
   ]
  },
  {
   "cell_type": "code",
   "execution_count": 17,
   "metadata": {},
   "outputs": [],
   "source": [
    "def calculate_code_complexity(code, numeric_keypad, control_keypad, levels):\n",
    "    \"\"\"Recursively calculate complexity for typing a single code.\"\"\"\n",
    "    numeric_grid = build_keypad_grid(numeric_keypad)\n",
    "    current_numeric_pos = numeric_grid[\"A\"]  # Numeric keypad starts on 'A'\n",
    "\n",
    "    # Generate sequence to press buttons on the numeric keypad\n",
    "    numeric_sequence = []\n",
    "    for digit in code:\n",
    "        target_pos = numeric_grid[digit]\n",
    "        path = bfs_shortest_path(current_numeric_pos, target_pos, numeric_grid)\n",
    "        numeric_sequence.extend(path)\n",
    "        numeric_sequence.append(\"A\")  # Press the button\n",
    "        current_numeric_pos = target_pos\n",
    "\n",
    "    # Simulate the control keypads recursively\n",
    "    total_steps = 0\n",
    "    for _ in range(levels):\n",
    "        control_grid = build_keypad_grid(control_keypad)\n",
    "        direction_map = {'U': '^', 'D': 'v', 'L': '<', 'R': '>'}  # Map movements to control keypad buttons\n",
    "        current_pos = control_grid[\"A\"]\n",
    "        total_steps_for_level = 0\n",
    "\n",
    "        for target in numeric_sequence:\n",
    "            if target != \"A\":\n",
    "                target = direction_map[target]\n",
    "            if target not in control_grid and target == \"A\":\n",
    "                total_steps_for_level += 1\n",
    "                continue\n",
    "            target_pos = control_grid[target]\n",
    "            path = bfs_shortest_path(current_pos, target_pos, control_grid)\n",
    "            total_steps_for_level += len(path) + 1  # +1 for 'A' to press button\n",
    "            current_pos = target_pos\n",
    "            \n",
    "        numeric_sequence = [\"A\"] * total_steps  # Sequence for the parent level\n",
    "            \n",
    "        total_steps += total_steps_for_level\n",
    "\n",
    "    # Final complexity\n",
    "    return total_steps * int(code[:-1].lstrip(\"0\"))"
   ]
  },
  {
   "cell_type": "code",
   "execution_count": 18,
   "metadata": {},
   "outputs": [
    {
     "data": {
      "text/plain": [
       "142552"
      ]
     },
     "execution_count": 18,
     "metadata": {},
     "output_type": "execute_result"
    }
   ],
   "source": [
    "sum(calculate_code_complexity(code, numeric_keypad, control_keypad, levels) for code in inputs)"
   ]
  },
  {
   "cell_type": "code",
   "execution_count": 25,
   "metadata": {},
   "outputs": [
    {
     "name": "stdout",
     "output_type": "stream",
     "text": [
      "Total Complexity: 346762\n"
     ]
    }
   ],
   "source": [
    "from collections import deque\n",
    "\n",
    "def build_keypad_grid(keypad):\n",
    "    \"\"\"Create a grid representation of the keypad.\"\"\"\n",
    "    grid = {}\n",
    "    for r, row in enumerate(keypad):\n",
    "        for c, key in enumerate(row):\n",
    "            if key != \" \":  # Skip gaps\n",
    "                grid[key] = (r, c)\n",
    "    return grid\n",
    "\n",
    "def bfs_shortest_path(start, target, grid):\n",
    "    \"\"\"Find the shortest path between two keys on the grid.\"\"\"\n",
    "    directions = {\n",
    "        'U': (-1, 0),\n",
    "        'D': (1, 0),\n",
    "        'L': (0, -1),\n",
    "        'R': (0, 1)\n",
    "    }\n",
    "    reverse_dir = {v: k for k, v in directions.items()}\n",
    "\n",
    "    queue = deque([(start, [])])  # (current position, path to position)\n",
    "    visited = set()\n",
    "\n",
    "    while queue:\n",
    "        current, path = queue.popleft()\n",
    "\n",
    "        if current == target:\n",
    "            return path\n",
    "\n",
    "        if current in visited:\n",
    "            continue\n",
    "        visited.add(current)\n",
    "\n",
    "        for d, (dr, dc) in directions.items():\n",
    "            next_pos = (current[0] + dr, current[1] + dc)\n",
    "            if next_pos in grid.values():\n",
    "                queue.append((next_pos, path + [d]))\n",
    "\n",
    "    return []  # Should not occur if target is reachable\n",
    "\n",
    "def simulate_keypad_control(start_pos, target_seq, control_keypad):\n",
    "    \"\"\"Simulate a control keypad directing a lower-level keypad.\"\"\"\n",
    "    control_grid = build_keypad_grid(control_keypad)\n",
    "    direction_map = {'U': '^', 'D': 'v', 'L': '<', 'R': '>'}  # Map movements to control keypad buttons\n",
    "    current_pos = control_grid[start_pos]\n",
    "    full_sequence = []\n",
    "\n",
    "    for target in target_seq:\n",
    "        if target in direction_map:  # Translate movement directions to control keypad buttons\n",
    "            target = direction_map[target]\n",
    "        if target not in control_grid:\n",
    "            if target == 'A':  # Handle button press explicitly\n",
    "                full_sequence.append('A')\n",
    "                continue\n",
    "            raise KeyError(f\"Invalid target '{target}' for the control keypad.\")\n",
    "        target_pos = control_grid[target]\n",
    "        path = bfs_shortest_path(current_pos, target_pos, control_grid)\n",
    "        full_sequence.extend(path)\n",
    "        full_sequence.append('A')  # Add the button press\n",
    "        current_pos = target_pos\n",
    "\n",
    "    return full_sequence\n",
    "\n",
    "def calculate_code_complexity(code, numeric_keypad, control_keypad, levels):\n",
    "    \"\"\"Recursively calculate complexity for typing a single code.\"\"\"\n",
    "    numeric_grid = build_keypad_grid(numeric_keypad)\n",
    "    current_numeric_pos = numeric_grid['A']  # Numeric keypad starts on 'A'\n",
    "\n",
    "    # Generate sequence to press buttons on the numeric keypad\n",
    "    numeric_sequence = []\n",
    "    for digit in code:\n",
    "        target_pos = numeric_grid[digit]\n",
    "        path = bfs_shortest_path(current_numeric_pos, target_pos, numeric_grid)\n",
    "        numeric_sequence.extend(path)\n",
    "        numeric_sequence.append('A')  # Press the button\n",
    "        current_numeric_pos = target_pos\n",
    "\n",
    "    # Simulate the control keypads recursively\n",
    "    for _ in range(levels):\n",
    "        numeric_sequence = simulate_keypad_control('A', numeric_sequence, control_keypad)\n",
    "\n",
    "    # Final complexity\n",
    "    total_steps = len(numeric_sequence)\n",
    "    return total_steps * int(code[:-1].lstrip(\"0\"))\n",
    "\n",
    "# Define keypads\n",
    "numeric_keypad = [\n",
    "    [\"7\", \"8\", \"9\"],\n",
    "    [\"4\", \"5\", \"6\"],\n",
    "    [\"1\", \"2\", \"3\"],\n",
    "    [\" \", \"0\", \"A\"]\n",
    "]\n",
    "\n",
    "control_keypad = [\n",
    "    [\" \", \"^\", \"A\"],\n",
    "    [\"<\", \"v\", \">\"]\n",
    "]\n",
    "\n",
    "# Input codes\n",
    "codes = [\"029A\", \"980A\", \"179A\", \"456A\", \"379A\"]\n",
    "\n",
    "# Number of control keypads\n",
    "levels = 3\n",
    "\n",
    "# Calculate total complexity\n",
    "total_complexity = sum(\n",
    "    calculate_code_complexity(code, numeric_keypad, control_keypad, levels) for code in codes\n",
    ")\n",
    "\n",
    "print(\"Total Complexity:\", total_complexity)\n"
   ]
  },
  {
   "cell_type": "code",
   "execution_count": 27,
   "metadata": {},
   "outputs": [
    {
     "data": {
      "text/plain": [
       "0.3644690017937375"
      ]
     },
     "execution_count": 27,
     "metadata": {},
     "output_type": "execute_result"
    }
   ],
   "source": [
    "126384/total_complexity"
   ]
  },
  {
   "cell_type": "code",
   "execution_count": 29,
   "metadata": {},
   "outputs": [
    {
     "data": {
      "text/plain": [
       "2.7437175591847067"
      ]
     },
     "execution_count": 29,
     "metadata": {},
     "output_type": "execute_result"
    }
   ],
   "source": [
    "total_complexity/126384"
   ]
  },
  {
   "cell_type": "code",
   "execution_count": null,
   "metadata": {},
   "outputs": [],
   "source": []
  },
  {
   "cell_type": "code",
   "execution_count": null,
   "metadata": {},
   "outputs": [],
   "source": []
  }
 ],
 "metadata": {
  "kernelspec": {
   "display_name": "advent",
   "language": "python",
   "name": "python3"
  },
  "language_info": {
   "codemirror_mode": {
    "name": "ipython",
    "version": 3
   },
   "file_extension": ".py",
   "mimetype": "text/x-python",
   "name": "python",
   "nbconvert_exporter": "python",
   "pygments_lexer": "ipython3",
   "version": "3.12.7"
  }
 },
 "nbformat": 4,
 "nbformat_minor": 2
}
