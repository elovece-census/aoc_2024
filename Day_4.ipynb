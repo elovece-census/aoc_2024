{
 "cells": [
  {
   "cell_type": "code",
   "execution_count": null,
   "metadata": {},
   "outputs": [],
   "source": [
    "with open(\"Data/Day_4_content.txt\") as file:\n",
    "    grid = [line.strip(\"\\n\") for line in file.readlines()]"
   ]
  },
  {
   "cell_type": "markdown",
   "metadata": {},
   "source": [
    "## Part 1"
   ]
  },
  {
   "cell_type": "code",
   "execution_count": 2,
   "metadata": {},
   "outputs": [],
   "source": [
    "# Getting grid dimensions\n",
    "rows, cols = len(grid), len(grid[0])\n",
    "\n",
    "# Setting target word to find in word search\n",
    "target = \"XMAS\""
   ]
  },
  {
   "cell_type": "code",
   "execution_count": 3,
   "metadata": {},
   "outputs": [],
   "source": [
    "# Define all 8 directions\n",
    "directions = [\n",
    "    (0, 1),  # Right\n",
    "    (0, -1), # Left\n",
    "    (1, 0),  # Down\n",
    "    (-1, 0), # Up\n",
    "    (1, 1),  # Diagonal down-right\n",
    "    (-1, -1),# Diagonal up-left\n",
    "    (1, -1), # Diagonal down-left\n",
    "    (-1, 1)  # Diagonal up-right\n",
    "]"
   ]
  },
  {
   "cell_type": "code",
   "execution_count": 4,
   "metadata": {},
   "outputs": [
    {
     "data": {
      "text/plain": [
       "2532"
      ]
     },
     "execution_count": 4,
     "metadata": {},
     "output_type": "execute_result"
    }
   ],
   "source": [
    "xmas_total = 0\n",
    "for row in range(rows):\n",
    "    for col in range(cols):\n",
    "        \n",
    "        # Start search from instances of starting character\n",
    "        if grid[row][col] == target[0]:\n",
    "            \n",
    "            for dr, dc in directions:\n",
    "                \n",
    "                # If confirmed, check each direction for next letter of target word\n",
    "                found = True\n",
    "                \n",
    "                for i in range(len(target)):\n",
    "                    # Define next row and column pair (grid position) to seach in given direction\n",
    "                    nr, nc = row + dr * i, col + dc * i\n",
    "                    \n",
    "                    if not (0 <= nr < rows and 0 <= nc < cols) or grid[nr][nc] != target[i]:\n",
    "                        \n",
    "                        found = False\n",
    "                        break\n",
    "                    \n",
    "                if found: xmas_total += 1\n",
    "                \n",
    "xmas_total"
   ]
  },
  {
   "cell_type": "markdown",
   "metadata": {},
   "source": [
    "## Part 2"
   ]
  },
  {
   "cell_type": "code",
   "execution_count": 5,
   "metadata": {},
   "outputs": [
    {
     "data": {
      "text/plain": [
       "1941"
      ]
     },
     "execution_count": 5,
     "metadata": {},
     "output_type": "execute_result"
    }
   ],
   "source": [
    "x_shape_count = 0\n",
    "# Iterate over every cell in the grid\n",
    "for row in range(1, rows - 1):\n",
    "    for col in range(1, cols - 1):\n",
    "        \n",
    "        # Check grid position for central \"A\"\n",
    "        if grid[row][col] == target[2]:\n",
    "            \n",
    "            # Check \"\\\" diagonal from central \"A\" for M-A-S or S-A-M\n",
    "            top_left_bottom_right = (\n",
    "                (grid[row - 1][col - 1] == target[1] and grid[row + 1][col + 1] == target[3]) or\n",
    "                (grid[row - 1][col - 1] == target[3] and grid[row + 1][col + 1] == target[1])\n",
    "            )\n",
    "                    \n",
    "            # Check \"/\" diagonal from central \"A\" for M-A-S or S-A-M\n",
    "            top_right_bottom_left = (\n",
    "                (grid[row - 1][col + 1] == target[3] and grid[row + 1][col - 1] == target[1]) or\n",
    "                (grid[row - 1][col + 1] == target[1] and grid[row + 1][col - 1] == target[3])\n",
    "            )\n",
    "                           \n",
    "            if top_left_bottom_right and top_right_bottom_left:\n",
    "                x_shape_count += 1\n",
    "                           \n",
    "x_shape_count"
   ]
  },
  {
   "cell_type": "code",
   "execution_count": null,
   "metadata": {},
   "outputs": [],
   "source": []
  }
 ],
 "metadata": {
  "kernelspec": {
   "display_name": "advent",
   "language": "python",
   "name": "python3"
  },
  "language_info": {
   "codemirror_mode": {
    "name": "ipython",
    "version": 3
   },
   "file_extension": ".py",
   "mimetype": "text/x-python",
   "name": "python",
   "nbconvert_exporter": "python",
   "pygments_lexer": "ipython3",
   "version": "3.12.7"
  }
 },
 "nbformat": 4,
 "nbformat_minor": 2
}
