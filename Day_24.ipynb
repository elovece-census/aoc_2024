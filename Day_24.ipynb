{
 "cells": [
  {
   "cell_type": "code",
   "execution_count": 1,
   "metadata": {},
   "outputs": [],
   "source": [
    "with open(\"Data/Day_24_content.txt\") as file:\n",
    "    lines = [line.strip() for line in file.readlines()]"
   ]
  },
  {
   "cell_type": "code",
   "execution_count": 2,
   "metadata": {},
   "outputs": [],
   "source": [
    "initial_values = {}\n",
    "gates = []\n",
    "\n",
    "for line in lines:\n",
    "    if \":\" in line:  # Initial wire value\n",
    "        wire, value = line.split(\":\")\n",
    "        initial_values[wire.strip()] = int(value.strip())\n",
    "    elif \"->\" in line:  # Gate connection\n",
    "        gates.append(line.strip())"
   ]
  },
  {
   "cell_type": "code",
   "execution_count": 3,
   "metadata": {},
   "outputs": [],
   "source": [
    "# Evaluate gate connections to determine wire values\n",
    "wire_values = initial_values.copy()\n",
    "\n",
    "# Track unevaluated gates\n",
    "remaining_gates = gates[:]\n",
    "while remaining_gates:\n",
    "    for gate in remaining_gates[:]:\n",
    "        parts = gate.split(\" -> \")\n",
    "        expr, output_wire = parts[0], parts[1]\n",
    "        \n",
    "        tokens = expr.split()\n",
    "        if len(tokens) == 3:  # Binary operation\n",
    "            in1, op, in2 = tokens\n",
    "            \n",
    "            # Check if inputs have values\n",
    "            if in1 in wire_values and in2 in wire_values:\n",
    "                val1, val2 = wire_values[in1], wire_values[in2]\n",
    "                \n",
    "                if op == \"AND\":\n",
    "                    wire_values[output_wire] = val1 & val2\n",
    "                elif op == \"OR\":\n",
    "                    wire_values[output_wire] = val1 | val2\n",
    "                else:\n",
    "                    wire_values[output_wire] = val1 ^ val2\n",
    "                    \n",
    "                remaining_gates.remove(gate)"
   ]
  },
  {
   "cell_type": "code",
   "execution_count": 4,
   "metadata": {},
   "outputs": [
    {
     "name": "stdout",
     "output_type": "stream",
     "text": [
      "59336987801432\n"
     ]
    }
   ],
   "source": [
    "# Convert values of wires starting with \"z\" to decimal number\n",
    "\n",
    "z_wires = {wire: value for wire, value in wire_values.items() if wire.startswith(\"z\")}\n",
    "\n",
    "# Sort by wire number\n",
    "sorted_bits = [value for _, value in sorted(z_wires.items(), key=lambda x: int(x[0][1:]))]\n",
    "\n",
    "# Convert binary to decimal\n",
    "result = int(\"\".join(map(str, sorted_bits[::-1])), base=2)\n",
    "print(result)"
   ]
  },
  {
   "cell_type": "markdown",
   "metadata": {},
   "source": [
    "## Part 2"
   ]
  },
  {
   "cell_type": "code",
   "execution_count": 5,
   "metadata": {},
   "outputs": [],
   "source": [
    "# Generate all possible inputs\n",
    "max_bits = 45\n",
    "max_value = 2 ** max_bits - 1\n",
    "\n",
    "# Wires for x, y, and z\n",
    "x_wires = [f\"x{i:02}\" for i in range(max_bits)]\n",
    "y_wires = [f\"y{i:02}\" for i in range(max_bits)]\n",
    "z_wires = [f\"z{i:02}\" for i in range(max_bits + 1)]\n",
    "\n",
    "# Original gates\n",
    "original_gates = gates[:]"
   ]
  },
  {
   "cell_type": "code",
   "execution_count": null,
   "metadata": {},
   "outputs": [],
   "source": [
    "swap_candidates = set()\n",
    "for x in range(max_value + 1):\n",
    "    for y in range(max_value + 1):\n",
    "        # Set initial values for x and y\n",
    "        for i in range(max_bits):\n",
    "            initial_values[x_wires[i]] = (x >> i) & 1\n",
    "        for i in range(max_bits):\n",
    "            initial_values[y_wires[i]] = (y >> i) & 1\n",
    "            \n",
    "        # Calculate expected output\n",
    "        expected_sum = x + y\n",
    "        expected_bits = [(expected_sum >> i) & 1 for i in range(max_bits + 1)]\n",
    "        \n",
    "        # Compare z wire outputs\n",
    "        for i, z_wire in enumerate(z_wires):\n",
    "            if wire_values.get(z_wire, -1) != expected_bits[i]:\n",
    "                swap_candidates.add(z_wire)"
   ]
  },
  {
   "cell_type": "code",
   "execution_count": null,
   "metadata": {},
   "outputs": [],
   "source": [
    "# Identify pairs from candidates\n",
    "print(\",\".join(sorted(swap_candidates)))"
   ]
  }
 ],
 "metadata": {
  "kernelspec": {
   "display_name": "Python 3",
   "language": "python",
   "name": "python3"
  },
  "language_info": {
   "codemirror_mode": {
    "name": "ipython",
    "version": 3
   },
   "file_extension": ".py",
   "mimetype": "text/x-python",
   "name": "python",
   "nbconvert_exporter": "python",
   "pygments_lexer": "ipython3",
   "version": "3.12.7"
  }
 },
 "nbformat": 4,
 "nbformat_minor": 2
}
