{
 "cells": [
  {
   "cell_type": "markdown",
   "metadata": {},
   "source": [
    "## Part 1"
   ]
  },
  {
   "cell_type": "code",
   "execution_count": 14,
   "metadata": {},
   "outputs": [],
   "source": [
    "with open(\"Data/Day_5_content.txt\") as file:\n",
    "    lines = file.readlines()"
   ]
  },
  {
   "cell_type": "code",
   "execution_count": 15,
   "metadata": {},
   "outputs": [],
   "source": [
    "ordering_rules_input = lines[:1176]\n",
    "updates_input = lines[1177:]"
   ]
  },
  {
   "cell_type": "code",
   "execution_count": 16,
   "metadata": {},
   "outputs": [],
   "source": [
    "# Parse ordering rules\n",
    "ordering_rules = [tuple(map(int, line.split('|'))) for line in ordering_rules_input]"
   ]
  },
  {
   "cell_type": "code",
   "execution_count": null,
   "metadata": {},
   "outputs": [],
   "source": [
    "ordering_rules"
   ]
  },
  {
   "cell_type": "code",
   "execution_count": 18,
   "metadata": {},
   "outputs": [],
   "source": [
    "# Parse updates\n",
    "updates = [list(map(int, line.split(','))) for line in updates_input]"
   ]
  },
  {
   "cell_type": "code",
   "execution_count": null,
   "metadata": {},
   "outputs": [],
   "source": [
    "updates"
   ]
  },
  {
   "cell_type": "code",
   "execution_count": null,
   "metadata": {},
   "outputs": [],
   "source": [
    "# Checking for any updates of even length\n",
    "any(len(update) % 2 == 0 for update in updates)"
   ]
  },
  {
   "cell_type": "code",
   "execution_count": null,
   "metadata": {},
   "outputs": [],
   "source": [
    "middle_page_sum = 0\n",
    "for update in updates:\n",
    "    is_valid_update = True\n",
    "    \n",
    "    # Only consider rules where both pages are in the update\n",
    "    filtered_rules = [(a, b) for a, b in ordering_rules if a in update and b in update]\n",
    "\n",
    "    # Check if all filtered rules are respected in the update order\n",
    "    # If not, then the update is invalid\n",
    "    for a, b in filtered_rules:\n",
    "        if update.index(a) >= update.index(b):\n",
    "            is_valid_update = False\n",
    "            break\n",
    "        \n",
    "    if is_valid_update:\n",
    "        middle_page_sum += update[len(update) // 2]\n",
    "        \n",
    "middle_page_sum"
   ]
  },
  {
   "cell_type": "markdown",
   "metadata": {},
   "source": [
    "## Part 2"
   ]
  },
  {
   "cell_type": "code",
   "execution_count": 22,
   "metadata": {},
   "outputs": [],
   "source": [
    "from collections import defaultdict, deque"
   ]
  },
  {
   "cell_type": "code",
   "execution_count": 23,
   "metadata": {},
   "outputs": [],
   "source": [
    "incorrect_updates = []\n",
    "for update in updates:\n",
    "    # Only consider rules where both pages are in the update\n",
    "    filtered_rules = [(a, b) for a, b in ordering_rules if a in update and b in update]\n",
    "\n",
    "    # Check if all filtered rules are respected in the update order\n",
    "    # If not, then the update is invalid\n",
    "    for a, b in filtered_rules:\n",
    "        if update.index(a) >= update.index(b):\n",
    "            incorrect_updates.append(update)\n",
    "            break"
   ]
  },
  {
   "cell_type": "code",
   "execution_count": null,
   "metadata": {},
   "outputs": [],
   "source": [
    "for update in incorrect_updates: print(update)"
   ]
  },
  {
   "cell_type": "code",
   "execution_count": null,
   "metadata": {},
   "outputs": [],
   "source": [
    "corrected_middle_sum = 0\n",
    "for update in incorrect_updates:\n",
    "    # Build a graph and in-degree count for topological sorting\n",
    "    graph = defaultdict(list)\n",
    "    in_degree = {page: 0 for page in update}\n",
    "    \n",
    "    for a, b in ordering_rules:\n",
    "        \n",
    "        if a in update and b in update:\n",
    "            graph[a].append(b)\n",
    "            in_degree[b] += 1\n",
    "    \n",
    "    # Collect pages with zero in-degree to start the topological sort\n",
    "    zero_in_degree = deque([node for node in update if in_degree[node] == 0])\n",
    "    ordered_update = []\n",
    "    \n",
    "    while zero_in_degree:\n",
    "        current = zero_in_degree.popleft()\n",
    "        ordered_update.append(current)\n",
    "        \n",
    "        for neighbor in graph[current]:\n",
    "            in_degree[neighbor] -= 1\n",
    "            \n",
    "            if in_degree[neighbor] == 0:\n",
    "                zero_in_degree.append(neighbor)\n",
    "    \n",
    "    corrected_middle_sum += ordered_update[len(ordered_update) // 2]\n",
    "    \n",
    "corrected_middle_sum"
   ]
  }
 ],
 "metadata": {
  "kernelspec": {
   "display_name": "advent",
   "language": "python",
   "name": "python3"
  },
  "language_info": {
   "codemirror_mode": {
    "name": "ipython",
    "version": 3
   },
   "file_extension": ".py",
   "mimetype": "text/x-python",
   "name": "python",
   "nbconvert_exporter": "python",
   "pygments_lexer": "ipython3",
   "version": "3.12.7"
  }
 },
 "nbformat": 4,
 "nbformat_minor": 2
}
