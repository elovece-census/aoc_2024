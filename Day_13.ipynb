{
 "cells": [
  {
   "cell_type": "code",
   "execution_count": 2,
   "metadata": {},
   "outputs": [],
   "source": [
    "from itertools import product"
   ]
  },
  {
   "cell_type": "code",
   "execution_count": 3,
   "metadata": {},
   "outputs": [],
   "source": [
    "def add_button_config(config, line, button):\n",
    "   entry = (line[line.index(\"+\") + 1 : line.index(\",\")], line[line.index(\"Y+\") + 2 :])\n",
    "   config[button] = int(entry[0]), int(entry[1])"
   ]
  },
  {
   "cell_type": "code",
   "execution_count": null,
   "metadata": {},
   "outputs": [],
   "source": [
    "with open(\"Data/Day_13_content.txt\") as file:\n",
    "    lines = [line.split(\"\\n\")[0] for line in file.readlines()]\n",
    "    machines = []\n",
    "    config = {}\n",
    "    for line in lines:\n",
    "        \n",
    "        if line.startswith(\"Button A\"):\n",
    "            add_button_config(config, line, \"A\")\n",
    "        elif line.startswith(\"Button B\"):\n",
    "            add_button_config(config, line, \"B\")\n",
    "        elif line.startswith(\"Prize\"):\n",
    "            config[\"Prize\"] = int(line[line.index(\"X=\") + 2 : line.index(\",\")]), int(line[line.index(\"Y=\") + 2 :])\n",
    "            \n",
    "        if \"A\" in config and \"B\" in config and \"Prize\" in config:\n",
    "            machines.append(config.copy())\n",
    "            config.clear()"
   ]
  },
  {
   "cell_type": "code",
   "execution_count": null,
   "metadata": {},
   "outputs": [],
   "source": [
    "machines[:5]"
   ]
  },
  {
   "cell_type": "markdown",
   "metadata": {},
   "source": [
    "## Part 1"
   ]
  },
  {
   "cell_type": "code",
   "execution_count": 15,
   "metadata": {},
   "outputs": [],
   "source": [
    "results = []  # To store results for each machine\n",
    "total_tokens = 0\n",
    "total_prizes = 0"
   ]
  },
  {
   "cell_type": "code",
   "execution_count": null,
   "metadata": {},
   "outputs": [],
   "source": [
    "for i, config in enumerate(machines):\n",
    "    print(config[\"Prize\"])"
   ]
  },
  {
   "cell_type": "code",
   "execution_count": 17,
   "metadata": {},
   "outputs": [],
   "source": [
    "for i, config in enumerate(machines):\n",
    "    # Extract machine config\n",
    "    ax, ay = config[\"A\"]\n",
    "    bx, by = config[\"B\"]\n",
    "    px, py = config[\"Prize\"]\n",
    "    \n",
    "    min_cost = float(\"inf\")  # Initialize with arbitarily high min_cost\n",
    "    prize_won = False\n",
    "    \n",
    "    # Brute force over possible button presses\n",
    "    for a, b in product(range(101), repeat = 2):\n",
    "        \n",
    "        # Check if combination aligns claw with prize\n",
    "        if ax * a + bx * b == px and ay * a + by * b == py:\n",
    "            # Calculate cost\n",
    "            cost = 3 * a + b\n",
    "                \n",
    "            if cost < min_cost:\n",
    "                min_cost = cost\n",
    "                prize_won = True\n",
    "                \n",
    "    if prize_won:\n",
    "        results.append((i + 1, min_cost))\n",
    "        total_tokens += min_cost\n",
    "        total_prizes += 1\n",
    "    else:\n",
    "        results.append((i + 1, None))  # No solution for this machine"
   ]
  },
  {
   "cell_type": "code",
   "execution_count": 18,
   "metadata": {},
   "outputs": [
    {
     "name": "stdout",
     "output_type": "stream",
     "text": [
      "Total prizes won: 169\n",
      "Total tokens spent: 37680\n"
     ]
    }
   ],
   "source": [
    "# Display results\n",
    "print(f\"Total prizes won: {total_prizes}\")\n",
    "print(f\"Total tokens spent: {total_tokens}\")"
   ]
  },
  {
   "cell_type": "markdown",
   "metadata": {},
   "source": [
    "## Part 2 (Incomplete)"
   ]
  },
  {
   "cell_type": "code",
   "execution_count": 3,
   "metadata": {},
   "outputs": [],
   "source": [
    "import math"
   ]
  },
  {
   "cell_type": "code",
   "execution_count": 9,
   "metadata": {},
   "outputs": [],
   "source": [
    "def extended_gcd(a, b):\n",
    "        \"\"\"Extended Euclidean algorithm to find x, y such that ax + by = gcd(a, b).\"\"\"\n",
    "        if b == 0: return a, 1, 0\n",
    "        g, x1, y1 = extended_gcd(b, a % b)\n",
    "        x = y1\n",
    "        y = x1 - (a // b) * y1\n",
    "        return g, x, y"
   ]
  },
  {
   "cell_type": "code",
   "execution_count": 10,
   "metadata": {},
   "outputs": [],
   "source": [
    "def find_solution(ax, bx, px, ay, by, py):\n",
    "    \"\"\"Find non-negative integers a, b satisfying the equations for extended px and py.\"\"\"\n",
    "    \n",
    "    print(f\"  Axes Coefficients: ax={ax}, bx={bx}, px={px}; ay={ay}, by={by}, py={py}\")\n",
    "    \n",
    "    g_x, x1, y1 = extended_gcd(ax, bx)\n",
    "    g_y, x2, y2 = extended_gcd(ay, by)\n",
    "    \n",
    "    print(f\"  Extended GCD Results: g_x={g_x}, x1={x1}, y1={y1}; g_y={g_y}, x2={x2}, y2={y2}\")\n",
    "    \n",
    "    # Check if solutions exist and coefficients match\n",
    "    if px % g_x != 0 or py % g_y != 0:\n",
    "        print(\"  No solution due to non-matching gcd\")\n",
    "        return None\n",
    "        \n",
    "    # Ensure gcd values match before proceeding\n",
    "    elif g_x != g_y:\n",
    "        \n",
    "        print(\"  Scaled coefficients due to inequality\")\n",
    "        lcm_g = (g_x * g_y) // math.gcd(g_x, g_y)\n",
    "        scale_g_x = lcm_g // g_x\n",
    "        scale_g_y = lcm_g // g_y\n",
    "        \n",
    "        g_x, x1, y1 = extended_gcd(ax * scale_g_x, bx * scale_g_x)\n",
    "        g_y, x2, y2 = extended_gcd(ay * scale_g_y, by * scale_g_y)\n",
    "\n",
    "        if scale_g_x != scale_g_y:\n",
    "            print(\"  No solution due to non-matching coefficients\")\n",
    "            return None\n",
    "\n",
    "    # Scale solutions for the x-axis equation\n",
    "    scale_x = px // g_x\n",
    "    x1 *= scale_x\n",
    "    y1 *= scale_x\n",
    "\n",
    "    # Scale solutions for the y-axis equation\n",
    "    scale_y = py // g_y\n",
    "    x2 *= scale_y\n",
    "    y2 *= scale_y\n",
    "    print(f\"  Scaled Solutions: x1={x1}, y1={y1}; x2={x2}, y2={y2}\")\n",
    "\n",
    "    # Find a valid (a, b) pair from combined solutions\n",
    "    k_x = bx // g_x\n",
    "    k_y = by // g_y\n",
    "\n",
    "    # Align x1, y1 to non-negative values using the linear congruence method\n",
    "    t_x = (k_x - x1 % k_x) % k_x\n",
    "    t_y = (k_y - x2 % k_y) % k_y\n",
    "    print(f\"  Modulo Adjustments: t_x={t_x}, t_y={t_y}\")\n",
    "    \n",
    "    if t_x != t_y:\n",
    "        print(\"  No solution due to non-matching modulo adjustments\")\n",
    "        return None\n",
    "    \n",
    "    t = max(t_x, t_y)\n",
    "    a = x1 + t * k_x\n",
    "    b = y1 + t * k_y\n",
    "    print(f\"  Final Values: a={a}, b={b}\")\n",
    "    \n",
    "    if a < 0 or b < 0:\n",
    "        print(\"  No solution due to negative a, b values\")\n",
    "        return None\n",
    "\n",
    "    if ax * a + bx * b != px or ay * a + by * b != py:\n",
    "        print(\"  No solution due to final validation\")\n",
    "        return None\n",
    "\n",
    "    return a, b\n"
   ]
  },
  {
   "cell_type": "code",
   "execution_count": 11,
   "metadata": {},
   "outputs": [],
   "source": [
    "machines_test = [\n",
    "    {\"A\": (94, 34), \"B\": (22, 67), \"Prize\": (8400, 5400)},\n",
    "    {\"A\": (26, 66), \"B\": (67, 21), \"Prize\": (12748, 12176)},\n",
    "    {\"A\": (17, 86), \"B\": (84, 37), \"Prize\": (7870, 6450)},\n",
    "    {\"A\": (69, 23), \"B\": (27, 71), \"Prize\": (18641, 10279)}\n",
    "    ]"
   ]
  },
  {
   "cell_type": "code",
   "execution_count": 12,
   "metadata": {},
   "outputs": [],
   "source": [
    "results = []  # To store results for each machine\n",
    "total_tokens = 0\n",
    "total_prizes = 0"
   ]
  },
  {
   "cell_type": "code",
   "execution_count": 13,
   "metadata": {},
   "outputs": [
    {
     "name": "stdout",
     "output_type": "stream",
     "text": [
      "Machine 1:\n",
      "  Axes Coefficients: ax=94, bx=22, px=10000000008400; ay=34, by=67, py=10000000005400\n",
      "  Extended GCD Results: g_x=2, x1=4, y1=-17; g_y=1, x2=2, y2=-1\n",
      "  Scaled coefficients due to inequality\n",
      "  No solution due to non-matching coefficients\n",
      "  Solution Exists: No\n",
      "Machine 2:\n",
      "  Axes Coefficients: ax=26, bx=67, px=10000000012748; ay=66, by=21, py=10000000012176\n",
      "  Extended GCD Results: g_x=1, x1=-18, y1=7; g_y=3, x2=1, y2=-3\n",
      "  Scaled coefficients due to inequality\n",
      "  No solution due to non-matching coefficients\n",
      "  Solution Exists: No\n",
      "Machine 3:\n",
      "  Axes Coefficients: ax=17, bx=84, px=10000000007870; ay=86, by=37, py=10000000006450\n",
      "  Extended GCD Results: g_x=1, x1=5, y1=-1; g_y=1, x2=-3, y2=7\n",
      "  Scaled Solutions: x1=50000000039350, y1=-10000000007870; x2=-30000000019350, y2=70000000045150\n",
      "  Modulo Adjustments: t_x=38, t_y=29\n",
      "  No solution due to non-matching modulo adjustments\n",
      "  Solution Exists: No\n",
      "Machine 4:\n",
      "  Axes Coefficients: ax=69, bx=27, px=10000000018641; ay=23, by=71, py=10000000010279\n",
      "  Extended GCD Results: g_x=3, x1=2, y1=-5; g_y=1, x2=34, y2=-11\n",
      "  Scaled coefficients due to inequality\n",
      "  No solution due to non-matching coefficients\n",
      "  Solution Exists: No\n"
     ]
    }
   ],
   "source": [
    "for i, config in enumerate(machines_test):\n",
    "    machine_num = i + 1\n",
    "    solution_found = False\n",
    "    print(f\"Machine {i+1}:\")\n",
    "    \n",
    "    # Extract machine config\n",
    "    ax, ay = config[\"A\"]\n",
    "    bx, by = config[\"B\"]\n",
    "    px, py = config[\"Prize\"]\n",
    "    \n",
    "    px += 10 ** 13\n",
    "    py += 10 ** 13\n",
    "    \n",
    "    solution = find_solution(ax, bx, px, ay, by, py)\n",
    "    if solution is not None:\n",
    "        solution_found = True\n",
    "    \n",
    "    g_x, x1, y1 = extended_gcd(ax, bx)\n",
    "    g_y, x2, y2 = extended_gcd(ay, by)\n",
    "\n",
    "    if solution_found:\n",
    "        a, b = solution\n",
    "        cost = 3 * a + b\n",
    "        results.append((machine_num, cost))\n",
    "        total_tokens += cost\n",
    "        total_prizes += 1\n",
    "    else:\n",
    "        results.append((machine_num, None))\n",
    "        \n",
    "    print(f\"  Solution Exists: {'Yes' if solution_found else 'No'}\")"
   ]
  },
  {
   "cell_type": "code",
   "execution_count": 14,
   "metadata": {},
   "outputs": [
    {
     "name": "stdout",
     "output_type": "stream",
     "text": [
      "Total prizes won: 0\n",
      "Total tokens spent: 0\n"
     ]
    }
   ],
   "source": [
    "# Display results\n",
    "print(f\"Total prizes won: {total_prizes}\")\n",
    "print(f\"Total tokens spent: {total_tokens}\")"
   ]
  },
  {
   "cell_type": "markdown",
   "metadata": {},
   "source": [
    "#### Test Output (Incorrect)"
   ]
  },
  {
   "cell_type": "code",
   "execution_count": null,
   "metadata": {},
   "outputs": [
    {
     "ename": "TypeError",
     "evalue": "cannot unpack non-iterable NoneType object",
     "output_type": "error",
     "traceback": [
      "\u001b[1;31m---------------------------------------------------------------------------\u001b[0m",
      "\u001b[1;31mTypeError\u001b[0m                                 Traceback (most recent call last)",
      "Cell \u001b[1;32mIn[45], line 66\u001b[0m\n\u001b[0;32m     58\u001b[0m machines_test \u001b[38;5;241m=\u001b[39m [\n\u001b[0;32m     59\u001b[0m     {\u001b[38;5;124m\"\u001b[39m\u001b[38;5;124mA\u001b[39m\u001b[38;5;124m\"\u001b[39m: (\u001b[38;5;241m94\u001b[39m, \u001b[38;5;241m34\u001b[39m), \u001b[38;5;124m\"\u001b[39m\u001b[38;5;124mB\u001b[39m\u001b[38;5;124m\"\u001b[39m: (\u001b[38;5;241m22\u001b[39m, \u001b[38;5;241m67\u001b[39m), \u001b[38;5;124m\"\u001b[39m\u001b[38;5;124mPrize\u001b[39m\u001b[38;5;124m\"\u001b[39m: (\u001b[38;5;241m10000000008400\u001b[39m, \u001b[38;5;241m10000000005400\u001b[39m)},\n\u001b[0;32m     60\u001b[0m     {\u001b[38;5;124m\"\u001b[39m\u001b[38;5;124mA\u001b[39m\u001b[38;5;124m\"\u001b[39m: (\u001b[38;5;241m26\u001b[39m, \u001b[38;5;241m66\u001b[39m), \u001b[38;5;124m\"\u001b[39m\u001b[38;5;124mB\u001b[39m\u001b[38;5;124m\"\u001b[39m: (\u001b[38;5;241m67\u001b[39m, \u001b[38;5;241m21\u001b[39m), \u001b[38;5;124m\"\u001b[39m\u001b[38;5;124mPrize\u001b[39m\u001b[38;5;124m\"\u001b[39m: (\u001b[38;5;241m10000000012748\u001b[39m, \u001b[38;5;241m10000000012176\u001b[39m)},\n\u001b[0;32m     61\u001b[0m     {\u001b[38;5;124m\"\u001b[39m\u001b[38;5;124mA\u001b[39m\u001b[38;5;124m\"\u001b[39m: (\u001b[38;5;241m17\u001b[39m, \u001b[38;5;241m86\u001b[39m), \u001b[38;5;124m\"\u001b[39m\u001b[38;5;124mB\u001b[39m\u001b[38;5;124m\"\u001b[39m: (\u001b[38;5;241m84\u001b[39m, \u001b[38;5;241m37\u001b[39m), \u001b[38;5;124m\"\u001b[39m\u001b[38;5;124mPrize\u001b[39m\u001b[38;5;124m\"\u001b[39m: (\u001b[38;5;241m10000000007870\u001b[39m, \u001b[38;5;241m10000000006450\u001b[39m)},\n\u001b[0;32m     62\u001b[0m     {\u001b[38;5;124m\"\u001b[39m\u001b[38;5;124mA\u001b[39m\u001b[38;5;124m\"\u001b[39m: (\u001b[38;5;241m69\u001b[39m, \u001b[38;5;241m23\u001b[39m), \u001b[38;5;124m\"\u001b[39m\u001b[38;5;124mB\u001b[39m\u001b[38;5;124m\"\u001b[39m: (\u001b[38;5;241m27\u001b[39m, \u001b[38;5;241m71\u001b[39m), \u001b[38;5;124m\"\u001b[39m\u001b[38;5;124mPrize\u001b[39m\u001b[38;5;124m\"\u001b[39m: (\u001b[38;5;241m10000000018641\u001b[39m, \u001b[38;5;241m10000000010279\u001b[39m)}\n\u001b[0;32m     63\u001b[0m ]\n\u001b[0;32m     65\u001b[0m \u001b[38;5;66;03m# Solve the problem\u001b[39;00m\n\u001b[1;32m---> 66\u001b[0m results, total_prizes, total_tokens \u001b[38;5;241m=\u001b[39m solve_claw_machine(machines_test)\n",
      "\u001b[1;31mTypeError\u001b[0m: cannot unpack non-iterable NoneType object"
     ]
    }
   ],
   "source": [
    "from math import gcd\n",
    "\n",
    "def solve_claw_machine(machine_configs):\n",
    "    def extended_gcd(a, b):\n",
    "        \"\"\"Extended Euclidean algorithm to find x, y such that ax + by = gcd(a, b).\"\"\"\n",
    "        if b == 0:\n",
    "            return a, 1, 0\n",
    "        g, x1, y1 = extended_gcd(b, a % b)\n",
    "        x = y1\n",
    "        y = x1 - (a // b) * y1\n",
    "        return g, x, y\n",
    "\n",
    "    def find_solution(ax, bx, px, ay, by, py):\n",
    "        \"\"\"Find non-negative integers a, b satisfying the equations.\"\"\"\n",
    "        g_x, x1, y1 = extended_gcd(ax, bx)\n",
    "        g_y, x2, y2 = extended_gcd(ay, by)\n",
    "\n",
    "        # Check if solutions exist\n",
    "        if px % g_x != 0 or py % g_y != 0:\n",
    "            return None\n",
    "\n",
    "        # Scale solutions for the x-axis equation\n",
    "        scale_x = px // g_x\n",
    "        x1 *= scale_x\n",
    "        y1 *= scale_x\n",
    "\n",
    "        # Scale solutions for the y-axis equation\n",
    "        scale_y = py // g_y\n",
    "        x2 *= scale_y\n",
    "        y2 *= scale_y\n",
    "\n",
    "        # Check coefficient alignment\n",
    "        if g_x != g_y:\n",
    "            return None\n",
    "\n",
    "        # Align x1 and x2 using linear congruence\n",
    "        k_x = bx // g_x\n",
    "        k_y = by // g_y\n",
    "\n",
    "        # Adjust x1 and x2 to find non-negative solutions\n",
    "        t_x = (k_x - x1 % k_x) % k_x\n",
    "        t_y = (k_y - x2 % k_y) % k_y\n",
    "\n",
    "        if t_x != t_y:\n",
    "            return None\n",
    "\n",
    "        # Adjust using the maximum of the offsets\n",
    "        t = max(t_x, t_y)\n",
    "        a = x1 + t * k_x\n",
    "        b = y1 + t * k_y\n",
    "\n",
    "        # Verify final solution\n",
    "        if a < 0 or b < 0 or ax * a + bx * b != px or ay * a + by * b != py:\n",
    "            return None\n",
    "\n",
    "        return a, b\n",
    "\n",
    "# Input: List of machine configurations\n",
    "machines_test = [\n",
    "    {\"A\": (94, 34), \"B\": (22, 67), \"Prize\": (10000000008400, 10000000005400)},\n",
    "    {\"A\": (26, 66), \"B\": (67, 21), \"Prize\": (10000000012748, 10000000012176)},\n",
    "    {\"A\": (17, 86), \"B\": (84, 37), \"Prize\": (10000000007870, 10000000006450)},\n",
    "    {\"A\": (69, 23), \"B\": (27, 71), \"Prize\": (10000000018641, 10000000010279)}\n",
    "]\n",
    "\n",
    "# Solve the problem\n",
    "results, total_prizes, total_tokens = solve_claw_machine(machines_test)"
   ]
  },
  {
   "cell_type": "code",
   "execution_count": null,
   "metadata": {},
   "outputs": [],
   "source": [
    "\n",
    "# Display results\n",
    "print(\"Results for each machine:\")\n",
    "for machine_id, cost in results:\n",
    "    if cost is not None:\n",
    "        print(f\"Machine {machine_id}: Prize won with {cost} tokens\")\n",
    "    else:\n",
    "        print(f\"Machine {machine_id}: No solution\")\n",
    "\n",
    "print(f\"\\nTotal prizes won: {total_prizes}\")\n",
    "print(f\"Total tokens spent: {total_tokens}\")\n"
   ]
  },
  {
   "cell_type": "code",
   "execution_count": null,
   "metadata": {},
   "outputs": [],
   "source": []
  },
  {
   "cell_type": "code",
   "execution_count": null,
   "metadata": {},
   "outputs": [],
   "source": []
  }
 ],
 "metadata": {
  "kernelspec": {
   "display_name": "advent",
   "language": "python",
   "name": "python3"
  },
  "language_info": {
   "codemirror_mode": {
    "name": "ipython",
    "version": 3
   },
   "file_extension": ".py",
   "mimetype": "text/x-python",
   "name": "python",
   "nbconvert_exporter": "python",
   "pygments_lexer": "ipython3",
   "version": "3.12.7"
  }
 },
 "nbformat": 4,
 "nbformat_minor": 2
}
