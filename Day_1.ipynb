{
 "cells": [
  {
   "cell_type": "code",
   "execution_count": 1,
   "metadata": {},
   "outputs": [],
   "source": [
    "import pandas as pd # type: ignore"
   ]
  },
  {
   "cell_type": "markdown",
   "metadata": {},
   "source": [
    "## Part 1"
   ]
  },
  {
   "cell_type": "markdown",
   "metadata": {},
   "source": [
    "#### Reading file into dataframe\n"
   ]
  },
  {
   "cell_type": "code",
   "execution_count": 2,
   "metadata": {},
   "outputs": [],
   "source": [
    "distance_lists = \"Data/Day_1_content.txt\"\n",
    "df = pd.read_csv(distance_lists, sep=\"\\\\s+\", names=[\"Left\", \"Right\"])"
   ]
  },
  {
   "cell_type": "code",
   "execution_count": 3,
   "metadata": {},
   "outputs": [
    {
     "data": {
      "text/html": [
       "<div>\n",
       "<style scoped>\n",
       "    .dataframe tbody tr th:only-of-type {\n",
       "        vertical-align: middle;\n",
       "    }\n",
       "\n",
       "    .dataframe tbody tr th {\n",
       "        vertical-align: top;\n",
       "    }\n",
       "\n",
       "    .dataframe thead th {\n",
       "        text-align: right;\n",
       "    }\n",
       "</style>\n",
       "<table border=\"1\" class=\"dataframe\">\n",
       "  <thead>\n",
       "    <tr style=\"text-align: right;\">\n",
       "      <th></th>\n",
       "      <th>Left</th>\n",
       "      <th>Right</th>\n",
       "    </tr>\n",
       "  </thead>\n",
       "  <tbody>\n",
       "    <tr>\n",
       "      <th>0</th>\n",
       "      <td>35446</td>\n",
       "      <td>18696</td>\n",
       "    </tr>\n",
       "    <tr>\n",
       "      <th>1</th>\n",
       "      <td>46314</td>\n",
       "      <td>66062</td>\n",
       "    </tr>\n",
       "    <tr>\n",
       "      <th>2</th>\n",
       "      <td>33933</td>\n",
       "      <td>83974</td>\n",
       "    </tr>\n",
       "    <tr>\n",
       "      <th>3</th>\n",
       "      <td>83974</td>\n",
       "      <td>34443</td>\n",
       "    </tr>\n",
       "    <tr>\n",
       "      <th>4</th>\n",
       "      <td>98207</td>\n",
       "      <td>12657</td>\n",
       "    </tr>\n",
       "    <tr>\n",
       "      <th>...</th>\n",
       "      <td>...</td>\n",
       "      <td>...</td>\n",
       "    </tr>\n",
       "    <tr>\n",
       "      <th>995</th>\n",
       "      <td>44296</td>\n",
       "      <td>36718</td>\n",
       "    </tr>\n",
       "    <tr>\n",
       "      <th>996</th>\n",
       "      <td>43642</td>\n",
       "      <td>99921</td>\n",
       "    </tr>\n",
       "    <tr>\n",
       "      <th>997</th>\n",
       "      <td>49243</td>\n",
       "      <td>90701</td>\n",
       "    </tr>\n",
       "    <tr>\n",
       "      <th>998</th>\n",
       "      <td>28205</td>\n",
       "      <td>27193</td>\n",
       "    </tr>\n",
       "    <tr>\n",
       "      <th>999</th>\n",
       "      <td>98899</td>\n",
       "      <td>19172</td>\n",
       "    </tr>\n",
       "  </tbody>\n",
       "</table>\n",
       "<p>1000 rows × 2 columns</p>\n",
       "</div>"
      ],
      "text/plain": [
       "      Left  Right\n",
       "0    35446  18696\n",
       "1    46314  66062\n",
       "2    33933  83974\n",
       "3    83974  34443\n",
       "4    98207  12657\n",
       "..     ...    ...\n",
       "995  44296  36718\n",
       "996  43642  99921\n",
       "997  49243  90701\n",
       "998  28205  27193\n",
       "999  98899  19172\n",
       "\n",
       "[1000 rows x 2 columns]"
      ]
     },
     "execution_count": 3,
     "metadata": {},
     "output_type": "execute_result"
    }
   ],
   "source": [
    "df"
   ]
  },
  {
   "cell_type": "markdown",
   "metadata": {},
   "source": [
    "#### Sorting values from smallest to largest"
   ]
  },
  {
   "cell_type": "code",
   "execution_count": 80,
   "metadata": {},
   "outputs": [],
   "source": [
    "sorted_left = df['Left'].sort_values().reset_index(drop=True)\n",
    "sorted_right = df['Right'].sort_values().reset_index(drop=True)"
   ]
  },
  {
   "cell_type": "code",
   "execution_count": 81,
   "metadata": {},
   "outputs": [
    {
     "data": {
      "text/html": [
       "<div>\n",
       "<style scoped>\n",
       "    .dataframe tbody tr th:only-of-type {\n",
       "        vertical-align: middle;\n",
       "    }\n",
       "\n",
       "    .dataframe tbody tr th {\n",
       "        vertical-align: top;\n",
       "    }\n",
       "\n",
       "    .dataframe thead th {\n",
       "        text-align: right;\n",
       "    }\n",
       "</style>\n",
       "<table border=\"1\" class=\"dataframe\">\n",
       "  <thead>\n",
       "    <tr style=\"text-align: right;\">\n",
       "      <th></th>\n",
       "      <th>0</th>\n",
       "      <th>1</th>\n",
       "      <th>2</th>\n",
       "      <th>3</th>\n",
       "      <th>4</th>\n",
       "      <th>5</th>\n",
       "      <th>6</th>\n",
       "      <th>7</th>\n",
       "      <th>8</th>\n",
       "      <th>9</th>\n",
       "      <th>...</th>\n",
       "      <th>990</th>\n",
       "      <th>991</th>\n",
       "      <th>992</th>\n",
       "      <th>993</th>\n",
       "      <th>994</th>\n",
       "      <th>995</th>\n",
       "      <th>996</th>\n",
       "      <th>997</th>\n",
       "      <th>998</th>\n",
       "      <th>999</th>\n",
       "    </tr>\n",
       "  </thead>\n",
       "  <tbody>\n",
       "    <tr>\n",
       "      <th>Left</th>\n",
       "      <td>10019</td>\n",
       "      <td>10130</td>\n",
       "      <td>10326</td>\n",
       "      <td>10456</td>\n",
       "      <td>10488</td>\n",
       "      <td>10538</td>\n",
       "      <td>10593</td>\n",
       "      <td>10628</td>\n",
       "      <td>10787</td>\n",
       "      <td>10804</td>\n",
       "      <td>...</td>\n",
       "      <td>99345</td>\n",
       "      <td>99425</td>\n",
       "      <td>99566</td>\n",
       "      <td>99572</td>\n",
       "      <td>99593</td>\n",
       "      <td>99602</td>\n",
       "      <td>99664</td>\n",
       "      <td>99705</td>\n",
       "      <td>99868</td>\n",
       "      <td>99887</td>\n",
       "    </tr>\n",
       "    <tr>\n",
       "      <th>Right</th>\n",
       "      <td>10136</td>\n",
       "      <td>10295</td>\n",
       "      <td>10727</td>\n",
       "      <td>11145</td>\n",
       "      <td>11195</td>\n",
       "      <td>11220</td>\n",
       "      <td>11410</td>\n",
       "      <td>11817</td>\n",
       "      <td>11918</td>\n",
       "      <td>12288</td>\n",
       "      <td>...</td>\n",
       "      <td>99080</td>\n",
       "      <td>99080</td>\n",
       "      <td>99080</td>\n",
       "      <td>99080</td>\n",
       "      <td>99080</td>\n",
       "      <td>99250</td>\n",
       "      <td>99451</td>\n",
       "      <td>99469</td>\n",
       "      <td>99609</td>\n",
       "      <td>99921</td>\n",
       "    </tr>\n",
       "  </tbody>\n",
       "</table>\n",
       "<p>2 rows × 1000 columns</p>\n",
       "</div>"
      ],
      "text/plain": [
       "         0      1      2      3      4      5      6      7      8      9    \\\n",
       "Left   10019  10130  10326  10456  10488  10538  10593  10628  10787  10804   \n",
       "Right  10136  10295  10727  11145  11195  11220  11410  11817  11918  12288   \n",
       "\n",
       "       ...    990    991    992    993    994    995    996    997    998  \\\n",
       "Left   ...  99345  99425  99566  99572  99593  99602  99664  99705  99868   \n",
       "Right  ...  99080  99080  99080  99080  99080  99250  99451  99469  99609   \n",
       "\n",
       "         999  \n",
       "Left   99887  \n",
       "Right  99921  \n",
       "\n",
       "[2 rows x 1000 columns]"
      ]
     },
     "execution_count": 81,
     "metadata": {},
     "output_type": "execute_result"
    }
   ],
   "source": [
    "pd.DataFrame([sorted_left, sorted_right])"
   ]
  },
  {
   "cell_type": "markdown",
   "metadata": {},
   "source": [
    "#### Getting sum of absolute distance"
   ]
  },
  {
   "cell_type": "code",
   "execution_count": 82,
   "metadata": {},
   "outputs": [],
   "source": [
    "distances = (sorted_left - sorted_right).abs()"
   ]
  },
  {
   "cell_type": "code",
   "execution_count": 83,
   "metadata": {},
   "outputs": [
    {
     "data": {
      "text/plain": [
       "0      117\n",
       "1      165\n",
       "2      401\n",
       "3      689\n",
       "4      707\n",
       "      ... \n",
       "995    352\n",
       "996    213\n",
       "997    236\n",
       "998    259\n",
       "999     34\n",
       "Length: 1000, dtype: int64"
      ]
     },
     "execution_count": 83,
     "metadata": {},
     "output_type": "execute_result"
    }
   ],
   "source": [
    "distances"
   ]
  },
  {
   "cell_type": "code",
   "execution_count": 84,
   "metadata": {},
   "outputs": [
    {
     "data": {
      "text/plain": [
       "np.int64(2196996)"
      ]
     },
     "execution_count": 84,
     "metadata": {},
     "output_type": "execute_result"
    }
   ],
   "source": [
    "total_distance = distances.sum()\n",
    "total_distance"
   ]
  },
  {
   "cell_type": "markdown",
   "metadata": {},
   "source": [
    "## Part 2"
   ]
  },
  {
   "cell_type": "markdown",
   "metadata": {},
   "source": [
    "#### Gathering unqiue right-column values and their number of appearances"
   ]
  },
  {
   "cell_type": "code",
   "execution_count": 85,
   "metadata": {},
   "outputs": [],
   "source": [
    "right_freq = df[\"Right\"].value_counts()"
   ]
  },
  {
   "cell_type": "code",
   "execution_count": 86,
   "metadata": {},
   "outputs": [
    {
     "data": {
      "text/plain": [
       "Right\n",
       "18696    20\n",
       "83974    20\n",
       "27547    20\n",
       "12657    19\n",
       "81859    19\n",
       "         ..\n",
       "83513     1\n",
       "36718     1\n",
       "99921     1\n",
       "90701     1\n",
       "89458     1\n",
       "Name: count, Length: 597, dtype: int64"
      ]
     },
     "execution_count": 86,
     "metadata": {},
     "output_type": "execute_result"
    }
   ],
   "source": [
    "right_freq"
   ]
  },
  {
   "cell_type": "markdown",
   "metadata": {},
   "source": [
    "#### Calculating similarity score based on prompt"
   ]
  },
  {
   "cell_type": "code",
   "execution_count": 87,
   "metadata": {},
   "outputs": [
    {
     "data": {
      "text/plain": [
       "np.int64(23655822)"
      ]
     },
     "execution_count": 87,
     "metadata": {},
     "output_type": "execute_result"
    }
   ],
   "source": [
    "similarity_score = 0\n",
    "for num in df[\"Left\"]:\n",
    "    similarity_score += num * right_freq.get(num, 0)\n",
    "\n",
    "similarity_score"
   ]
  }
 ],
 "metadata": {
  "kernelspec": {
   "display_name": "advent",
   "language": "python",
   "name": "python3"
  },
  "language_info": {
   "codemirror_mode": {
    "name": "ipython",
    "version": 3
   },
   "file_extension": ".py",
   "mimetype": "text/x-python",
   "name": "python",
   "nbconvert_exporter": "python",
   "pygments_lexer": "ipython3",
   "version": "3.12.7"
  }
 },
 "nbformat": 4,
 "nbformat_minor": 2
}
