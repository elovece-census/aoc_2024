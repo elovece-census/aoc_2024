{
 "cells": [
  {
   "cell_type": "code",
   "execution_count": 1,
   "metadata": {},
   "outputs": [],
   "source": [
    "with open(\"Data/Day_7_content.txt\") as file:\n",
    "    equations = []\n",
    "    for line in file.readlines():\n",
    "        test_value, numbers = line.split(\":\")\n",
    "        test_value = int(test_value)\n",
    "        numbers = list(map(int, numbers.split()))\n",
    "        equations.append((test_value, numbers))"
   ]
  },
  {
   "cell_type": "markdown",
   "metadata": {},
   "source": [
    "## Part 1"
   ]
  },
  {
   "cell_type": "code",
   "execution_count": 2,
   "metadata": {},
   "outputs": [],
   "source": [
    "from itertools import product"
   ]
  },
  {
   "cell_type": "code",
   "execution_count": 3,
   "metadata": {},
   "outputs": [
    {
     "data": {
      "text/plain": [
       "303876485655"
      ]
     },
     "execution_count": 3,
     "metadata": {},
     "output_type": "execute_result"
    }
   ],
   "source": [
    "# Determine which equations can be satisfied\n",
    "valid_vals = []\n",
    "for test_value, numbers in equations:\n",
    "    # Generate all combinations of `+` and `*` for the (n-1) operator slots\n",
    "    operator_combinations = product(\"+*\", repeat = len(numbers) - 1)\n",
    "    \n",
    "    for operators in operator_combinations:\n",
    "        \n",
    "        result = numbers[0]\n",
    "        for i, op in enumerate(operators):\n",
    "            \n",
    "            if op == \"+\":\n",
    "                result += numbers[i + 1]\n",
    "            else:\n",
    "                result *= numbers[i + 1]\n",
    "                \n",
    "        if result == test_value:\n",
    "            valid_vals.append(test_value)\n",
    "            break  # We are done checking operator combinations for this eqn.\n",
    "\n",
    "sum(valid_vals)"
   ]
  },
  {
   "cell_type": "markdown",
   "metadata": {},
   "source": [
    "## Part 2"
   ]
  },
  {
   "cell_type": "code",
   "execution_count": 4,
   "metadata": {},
   "outputs": [
    {
     "data": {
      "text/plain": [
       "146111650210682"
      ]
     },
     "execution_count": 4,
     "metadata": {},
     "output_type": "execute_result"
    }
   ],
   "source": [
    "# Determine which equations can be satisfied\n",
    "valid_vals_with_concat = []\n",
    "for test_value, numbers in equations:\n",
    "    # Generate all combinations of `+` and `*` for the (n-1) operator slots\n",
    "    operator_combinations = product([\"+\", \"*\", \"||\"], repeat = len(numbers) - 1)\n",
    "    \n",
    "    for operators in operator_combinations:\n",
    "        \n",
    "        result = numbers[0]\n",
    "        for i, op in enumerate(operators):\n",
    "            \n",
    "            if op == \"+\":\n",
    "                result += numbers[i + 1]\n",
    "            elif op == \"*\":\n",
    "                result *= numbers[i + 1]\n",
    "            else:\n",
    "                # Concatenate as string, recombine as int\n",
    "                result = int(str(result) + str(numbers[i + 1]))\n",
    "                \n",
    "        if result == test_value:\n",
    "            valid_vals_with_concat.append(test_value)\n",
    "            break  # We are done checking operator combinations for this eqn.\n",
    "\n",
    "sum(valid_vals_with_concat)"
   ]
  }
 ],
 "metadata": {
  "kernelspec": {
   "display_name": "advent",
   "language": "python",
   "name": "python3"
  },
  "language_info": {
   "codemirror_mode": {
    "name": "ipython",
    "version": 3
   },
   "file_extension": ".py",
   "mimetype": "text/x-python",
   "name": "python",
   "nbconvert_exporter": "python",
   "pygments_lexer": "ipython3",
   "version": "3.12.7"
  }
 },
 "nbformat": 4,
 "nbformat_minor": 2
}
