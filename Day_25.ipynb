{
 "cells": [
  {
   "cell_type": "code",
   "execution_count": 1,
   "metadata": {},
   "outputs": [],
   "source": [
    "with open(\"Data/Day_25_content.txt\") as file:\n",
    "    lines = [line.strip() for line in file.readlines()]"
   ]
  },
  {
   "cell_type": "code",
   "execution_count": 2,
   "metadata": {},
   "outputs": [],
   "source": [
    "lock_schematics, key_schematics = [], []\n",
    "schematic = []\n",
    "\n",
    "for line in lines:\n",
    "    if line == \"\":  # Blank line indicates end of a block\n",
    "        if schematic:  # Only process if there's a schematic collected\n",
    "            if schematic[0] == \"#####\":  # First row all `#` -> Lock\n",
    "                lock_schematics.append(schematic)\n",
    "            elif schematic[-1] == \"#####\":  # Last row all `#` -> Key\n",
    "                key_schematics.append(schematic)\n",
    "            schematic = []  # Reset for the next block\n",
    "    else:\n",
    "        schematic.append(line)\n",
    "            \n",
    "# Ensure the last schematic is processed\n",
    "if schematic:\n",
    "    if schematic[0] == \"#####\":\n",
    "        lock_schematics.append(schematic)\n",
    "    elif schematic[-1] == \"#####\":\n",
    "        key_schematics.append(schematic)"
   ]
  },
  {
   "cell_type": "code",
   "execution_count": 3,
   "metadata": {},
   "outputs": [],
   "source": [
    "def parse_heights(schematic, lock=True):\n",
    "    \"\"\"\n",
    "    Convert a schematic into a list of heights.\n",
    "    If `lock` is True, parse as a lock (pins extend downward).\n",
    "    If `lock` is False, parse as a key (protrusions extend upward).\n",
    "    \"\"\"\n",
    "    height = len(schematic)\n",
    "    width = len(schematic[0])\n",
    "    heights = [0] * width\n",
    "    \n",
    "    for col in range(width):\n",
    "        if lock:\n",
    "            # Count `#` from top to bottom for locks\n",
    "            heights[col] = sum(1 for row in range(height) if schematic[row][col] == '#')\n",
    "        else:\n",
    "            # Count `#` from bottom to top for keys\n",
    "            heights[col] = sum(1 for row in range(height-1, -1, -1) if schematic[row][col] == '#')\n",
    "    \n",
    "    return heights"
   ]
  },
  {
   "cell_type": "code",
   "execution_count": 4,
   "metadata": {},
   "outputs": [],
   "source": [
    "# Convert schematics to heights\n",
    "locks = [parse_heights(lock) for lock in lock_schematics]\n",
    "keys = [parse_heights(key, lock=False) for key in key_schematics]"
   ]
  },
  {
   "cell_type": "code",
   "execution_count": 9,
   "metadata": {},
   "outputs": [
    {
     "data": {
      "text/plain": [
       "3196"
      ]
     },
     "execution_count": 9,
     "metadata": {},
     "output_type": "execute_result"
    }
   ],
   "source": [
    "valid_pairs = 0\n",
    "\n",
    "# Check each lock with each key\n",
    "for lock in locks:\n",
    "    for key in keys:\n",
    "        if all(lock[col] + key[col] <= 7 for col in range(len(lock))):\n",
    "            valid_pairs += 1\n",
    "            \n",
    "valid_pairs"
   ]
  }
 ],
 "metadata": {
  "kernelspec": {
   "display_name": "advent",
   "language": "python",
   "name": "python3"
  },
  "language_info": {
   "codemirror_mode": {
    "name": "ipython",
    "version": 3
   },
   "file_extension": ".py",
   "mimetype": "text/x-python",
   "name": "python",
   "nbconvert_exporter": "python",
   "pygments_lexer": "ipython3",
   "version": "3.12.7"
  }
 },
 "nbformat": 4,
 "nbformat_minor": 2
}
