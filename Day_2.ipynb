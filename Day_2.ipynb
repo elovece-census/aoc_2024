{
 "cells": [
  {
   "cell_type": "code",
   "execution_count": 11,
   "metadata": {},
   "outputs": [],
   "source": [
    "report_list = \"Data/Day_2_content.txt\"\n",
    "cleaned_reports = []\n",
    "with open(report_list) as file:\n",
    "    for line in file:\n",
    "        report = list(map(int, line.strip().split()))\n",
    "        cleaned_reports.append(report)"
   ]
  },
  {
   "cell_type": "markdown",
   "metadata": {},
   "source": [
    "## Part 1"
   ]
  },
  {
   "cell_type": "code",
   "execution_count": 13,
   "metadata": {},
   "outputs": [],
   "source": [
    "def is_safe_report(report):\n",
    "    differences = [report[i + 1] - report[i] for i in range(len(report) - 1)]\n",
    "    increasing = all(0 < diff <= 3 for diff in differences)\n",
    "    decreasing = all(-3 <= diff < 0 for diff in differences)\n",
    "    \n",
    "    return increasing or decreasing"
   ]
  },
  {
   "cell_type": "code",
   "execution_count": 14,
   "metadata": {},
   "outputs": [
    {
     "data": {
      "text/plain": [
       "321"
      ]
     },
     "execution_count": 14,
     "metadata": {},
     "output_type": "execute_result"
    }
   ],
   "source": [
    "safe_reports_count = 0\n",
    "for report in cleaned_reports:\n",
    "        \n",
    "    if is_safe_report(report):\n",
    "        safe_reports_count += 1\n",
    "        \n",
    "safe_reports_count"
   ]
  },
  {
   "cell_type": "markdown",
   "metadata": {},
   "source": [
    "## Part 2"
   ]
  },
  {
   "cell_type": "code",
   "execution_count": 15,
   "metadata": {},
   "outputs": [
    {
     "data": {
      "text/plain": [
       "386"
      ]
     },
     "execution_count": 15,
     "metadata": {},
     "output_type": "execute_result"
    }
   ],
   "source": [
    "safe_reports_count = 0\n",
    "for report in cleaned_reports:\n",
    "    \n",
    "    if not is_safe_report(report):\n",
    "        \n",
    "        for i in range(len(report)):\n",
    "            \n",
    "            if is_safe_report(report[:i] + report[i+1:]):\n",
    "                safe_reports_count += 1\n",
    "                break\n",
    "            \n",
    "    else:\n",
    "        safe_reports_count += 1\n",
    "\n",
    "safe_reports_count"
   ]
  }
 ],
 "metadata": {
  "kernelspec": {
   "display_name": "advent",
   "language": "python",
   "name": "python3"
  },
  "language_info": {
   "codemirror_mode": {
    "name": "ipython",
    "version": 3
   },
   "file_extension": ".py",
   "mimetype": "text/x-python",
   "name": "python",
   "nbconvert_exporter": "python",
   "pygments_lexer": "ipython3",
   "version": "3.12.7"
  }
 },
 "nbformat": 4,
 "nbformat_minor": 2
}
