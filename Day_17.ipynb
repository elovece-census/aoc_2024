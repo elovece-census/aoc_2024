{
 "cells": [
  {
   "cell_type": "code",
   "execution_count": 12,
   "metadata": {},
   "outputs": [],
   "source": [
    "# Register A: 48744869\n",
    "# Register B: 0\n",
    "# Register C: 0\n",
    "\n",
    "# Program: 2,4,1,2,7,5,1,3,4,4,5,5,0,3,3,0"
   ]
  },
  {
   "cell_type": "markdown",
   "metadata": {},
   "source": [
    "## Part 1"
   ]
  },
  {
   "cell_type": "code",
   "execution_count": 13,
   "metadata": {},
   "outputs": [],
   "source": [
    "registers = {\"A\": 48744869, \"B\": 0, \"C\": 0}\n",
    "program = [2, 4, 1, 2, 7, 5, 1, 3, 4, 4, 5, 5, 0, 3, 3, 0]"
   ]
  },
  {
   "cell_type": "code",
   "execution_count": 14,
   "metadata": {},
   "outputs": [],
   "source": [
    "# For testing A values\n",
    "#registers = {\"A\": 5, \"B\": 0, \"C\": 0}\n",
    "#program = [2, 4, 1, 2, 7, 5, 1, 3, 4, 4, 5, 5, 0, 3, 3, 0]"
   ]
  },
  {
   "cell_type": "code",
   "execution_count": 15,
   "metadata": {},
   "outputs": [],
   "source": [
    "# Extracting register values\n",
    "A = registers[\"A\"]\n",
    "B = registers[\"B\"]\n",
    "C = registers[\"C\"]"
   ]
  },
  {
   "cell_type": "code",
   "execution_count": 16,
   "metadata": {},
   "outputs": [],
   "source": [
    "instruction_pointer = 0\n",
    "output = []\n",
    "opcodes = []"
   ]
  },
  {
   "cell_type": "code",
   "execution_count": 17,
   "metadata": {},
   "outputs": [],
   "source": [
    "# Helper function for combo operands\n",
    "def get_combo_operand_value(operand):\n",
    "    if operand in {0, 1, 2, 3}:  # Literal values\n",
    "        return operand\n",
    "    elif operand == 4:  # Register A\n",
    "        return A\n",
    "    elif operand == 5:  # Register B\n",
    "        return B\n",
    "    elif operand == 6:  # Register C\n",
    "        return C\n",
    "    else:\n",
    "        raise ValueError(\"Invalid combo operand: 7 is reserved.\")"
   ]
  },
  {
   "cell_type": "code",
   "execution_count": 18,
   "metadata": {},
   "outputs": [
    {
     "name": "stdout",
     "output_type": "stream",
     "text": [
      "opcode = 2\n",
      "opcode = 1\n",
      "opcode = 7\n",
      "opcode = 1\n",
      "opcode = 4\n",
      "opcode = 5\n",
      "opcode = 0\n",
      "opcode = 3\n",
      "opcode = 2\n",
      "opcode = 1\n",
      "opcode = 7\n",
      "opcode = 1\n",
      "opcode = 4\n",
      "opcode = 5\n",
      "opcode = 0\n",
      "opcode = 3\n",
      "opcode = 2\n",
      "opcode = 1\n",
      "opcode = 7\n",
      "opcode = 1\n",
      "opcode = 4\n",
      "opcode = 5\n",
      "opcode = 0\n",
      "opcode = 3\n",
      "opcode = 2\n",
      "opcode = 1\n",
      "opcode = 7\n",
      "opcode = 1\n",
      "opcode = 4\n",
      "opcode = 5\n",
      "opcode = 0\n",
      "opcode = 3\n",
      "opcode = 2\n",
      "opcode = 1\n",
      "opcode = 7\n",
      "opcode = 1\n",
      "opcode = 4\n",
      "opcode = 5\n",
      "opcode = 0\n",
      "opcode = 3\n",
      "opcode = 2\n",
      "opcode = 1\n",
      "opcode = 7\n",
      "opcode = 1\n",
      "opcode = 4\n",
      "opcode = 5\n",
      "opcode = 0\n",
      "opcode = 3\n",
      "opcode = 2\n",
      "opcode = 1\n",
      "opcode = 7\n",
      "opcode = 1\n",
      "opcode = 4\n",
      "opcode = 5\n",
      "opcode = 0\n",
      "opcode = 3\n",
      "opcode = 2\n",
      "opcode = 1\n",
      "opcode = 7\n",
      "opcode = 1\n",
      "opcode = 4\n",
      "opcode = 5\n",
      "opcode = 0\n",
      "opcode = 3\n",
      "opcode = 2\n",
      "opcode = 1\n",
      "opcode = 7\n",
      "opcode = 1\n",
      "opcode = 4\n",
      "opcode = 5\n",
      "opcode = 0\n",
      "opcode = 3\n"
     ]
    }
   ],
   "source": [
    "while instruction_pointer < len(program):\n",
    "    \n",
    "    opcode = program[instruction_pointer]\n",
    "    opcodes.append(opcode)\n",
    "    print(f\"opcode = {opcode}\")\n",
    "    \n",
    "    if instruction_pointer + 1 < len(program):\n",
    "        operand = program[instruction_pointer + 1]\n",
    "    else:\n",
    "        operand = 0\n",
    "        \n",
    "    if opcode == 0:    # adv\n",
    "        divisor = 2 ** get_combo_operand_value(operand)\n",
    "        A = A // divisor\n",
    "        \n",
    "    elif opcode == 1:  # bxl\n",
    "        B = B ^ operand\n",
    "        \n",
    "    elif opcode == 2:  # bst\n",
    "        B = get_combo_operand_value(operand) % 8\n",
    "        \n",
    "    elif opcode == 3:  # jnz\n",
    "        if A != 0:\n",
    "            instruction_pointer = operand\n",
    "            continue\n",
    "        \n",
    "    elif opcode == 4:  # bxc\n",
    "        B = B ^ C\n",
    "        \n",
    "    elif opcode == 5:  # out\n",
    "        output.append(get_combo_operand_value(operand) % 8)\n",
    "        \n",
    "    elif opcode == 6:  # bdv\n",
    "        divisor = 2 ** get_combo_operand_value(operand)\n",
    "        B = A // divisor\n",
    "        \n",
    "    elif opcode == 7:  # cdv\n",
    "        divisor = 2 ** get_combo_operand_value(operand)\n",
    "        C = A // divisor\n",
    "        \n",
    "    else:\n",
    "        raise ValueError(f\"Invalid opcode: {opcode}\")\n",
    "    \n",
    "    # Increment instruction pointer by 2\n",
    "    instruction_pointer += 2"
   ]
  },
  {
   "cell_type": "code",
   "execution_count": 11,
   "metadata": {},
   "outputs": [
    {
     "data": {
      "text/plain": [
       "'7,1,5,2,4,0,7,6,1'"
      ]
     },
     "execution_count": 11,
     "metadata": {},
     "output_type": "execute_result"
    }
   ],
   "source": [
    "\",\".join(map(str, output))"
   ]
  },
  {
   "cell_type": "markdown",
   "metadata": {},
   "source": [
    "## Part 2 (Incomplete)"
   ]
  },
  {
   "cell_type": "code",
   "execution_count": 1,
   "metadata": {},
   "outputs": [],
   "source": [
    "# Helper function for combo operands\n",
    "def get_combo_operand_value(operand):\n",
    "    if operand in {0, 1, 2, 3}:  # Literal values\n",
    "        return operand\n",
    "    elif operand == 4:  # Register A\n",
    "        return A\n",
    "    elif operand == 5:  # Register B\n",
    "        return B\n",
    "    elif operand == 6:  # Register C\n",
    "        return C\n",
    "    else:\n",
    "        raise ValueError(\"Invalid combo operand: 7 is reserved.\")"
   ]
  },
  {
   "cell_type": "code",
   "execution_count": 2,
   "metadata": {},
   "outputs": [],
   "source": [
    "program = [2, 4, 1, 2, 7, 5, 1, 3, 4, 4, 5, 5, 0, 3, 3, 0]"
   ]
  },
  {
   "cell_type": "code",
   "execution_count": 3,
   "metadata": {},
   "outputs": [],
   "source": [
    "B, C = 0, 0\n",
    "outputs = []  # Storing observed outputs\n",
    "reverse_pointer = len(program) - 1"
   ]
  },
  {
   "cell_type": "code",
   "execution_count": 4,
   "metadata": {},
   "outputs": [
    {
     "ename": "KeyboardInterrupt",
     "evalue": "",
     "output_type": "error",
     "traceback": [
      "\u001b[1;31m---------------------------------------------------------------------------\u001b[0m",
      "\u001b[1;31mKeyboardInterrupt\u001b[0m                         Traceback (most recent call last)",
      "Cell \u001b[1;32mIn[4], line 22\u001b[0m\n\u001b[0;32m     16\u001b[0m     B \u001b[38;5;241m=\u001b[39m reverse_combo_operand(B, operand, A, B, C) \u001b[38;5;241m%\u001b[39m \u001b[38;5;241m8\u001b[39m  \u001b[38;5;66;03m# Revert modulo operator\u001b[39;00m\n\u001b[0;32m     18\u001b[0m \u001b[38;5;28;01melif\u001b[39;00m opcode \u001b[38;5;241m==\u001b[39m \u001b[38;5;241m3\u001b[39m:  \u001b[38;5;66;03m# inv_jnz\u001b[39;00m\n\u001b[0;32m     19\u001b[0m     \u001b[38;5;66;03m#A = 1  # Ensure A was non-zero\u001b[39;00m\n\u001b[0;32m     20\u001b[0m     \u001b[38;5;66;03m#reverse_pointer = operand  # Reverse the jump\u001b[39;00m\n\u001b[0;32m     21\u001b[0m     \u001b[38;5;66;03m#if reverse_pointer == 0:\u001b[39;00m\n\u001b[1;32m---> 22\u001b[0m     \u001b[38;5;28;01mcontinue\u001b[39;00m\n\u001b[0;32m     24\u001b[0m \u001b[38;5;28;01melif\u001b[39;00m opcode \u001b[38;5;241m==\u001b[39m \u001b[38;5;241m4\u001b[39m:  \u001b[38;5;66;03m# inv_bxc\u001b[39;00m\n\u001b[0;32m     25\u001b[0m     B \u001b[38;5;241m^\u001b[39m\u001b[38;5;241m=\u001b[39m C\n",
      "\u001b[1;31mKeyboardInterrupt\u001b[0m: "
     ]
    }
   ],
   "source": [
    "# Work backwards thru program\n",
    "while reverse_pointer >= 1:\n",
    "    \n",
    "    opcode = program[reverse_pointer - 1]\n",
    "    operand = program[reverse_pointer]\n",
    "    \n",
    "    if opcode == 0:    # inv_avd\n",
    "        # Reconstruct A from B and operand\n",
    "        divisor = 2 ** get_combo_operand_value(operand, operand, A, B, C)\n",
    "        A *= divisor\n",
    "    \n",
    "    elif opcode == 1:  # inv_bxl\n",
    "        B ^= operand  # Reverse XOR\n",
    "        \n",
    "    elif opcode == 2:  # inv_bst\n",
    "        B = get_combo_operand_value(B, operand, A, B, C) % 8  # Revert modulo operator\n",
    "        \n",
    "    elif opcode == 3:  # inv_jnz\n",
    "        #A = 1  # Ensure A was non-zero\n",
    "        #reverse_pointer = operand  # Reverse the jump\n",
    "        #if reverse_pointer == 0:\n",
    "        continue\n",
    "        \n",
    "    elif opcode == 4:  # inv_bxc\n",
    "        B ^= C\n",
    "        \n",
    "    elif opcode == 5:  # inv_out\n",
    "        output = get_combo_operand_value(B % 8, operand, A, B, C)\n",
    "        \n",
    "    elif opcode == 6:  # inv_bdv\n",
    "        divisor = 2 ** get_combo_operand_value(operand, operand, A, B, C)\n",
    "        A = B * divisor\n",
    "        \n",
    "    elif opcode == 7:  # inv_cdv\n",
    "        divisor = 2 ** get_combo_operand_value(operand, operand, A, B, C)\n",
    "        A = C * divisor\n",
    "        \n",
    "    # Move reverse pointer back by 2 for opcode-operand pair\n",
    "    reverse_pointer -= 2"
   ]
  },
  {
   "cell_type": "code",
   "execution_count": 7,
   "metadata": {},
   "outputs": [],
   "source": []
  },
  {
   "cell_type": "code",
   "execution_count": 18,
   "metadata": {},
   "outputs": [],
   "source": []
  },
  {
   "cell_type": "code",
   "execution_count": null,
   "metadata": {},
   "outputs": [],
   "source": []
  }
 ],
 "metadata": {
  "kernelspec": {
   "display_name": "advent",
   "language": "python",
   "name": "python3"
  },
  "language_info": {
   "codemirror_mode": {
    "name": "ipython",
    "version": 3
   },
   "file_extension": ".py",
   "mimetype": "text/x-python",
   "name": "python",
   "nbconvert_exporter": "python",
   "pygments_lexer": "ipython3",
   "version": "3.12.7"
  }
 },
 "nbformat": 4,
 "nbformat_minor": 2
}
