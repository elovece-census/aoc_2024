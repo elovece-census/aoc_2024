{
 "cells": [
  {
   "cell_type": "code",
   "execution_count": 42,
   "metadata": {},
   "outputs": [],
   "source": [
    "with open(\"Data/Day_8_content.txt\") as file:\n",
    "    grid = [line.strip() for line in file.readlines()]"
   ]
  },
  {
   "cell_type": "code",
   "execution_count": 43,
   "metadata": {},
   "outputs": [
    {
     "data": {
      "text/plain": [
       "['..........K........................A..............',\n",
       " '.K................................A...............',\n",
       " '......................................D.....A.....',\n",
       " '....................................6............D',\n",
       " '..................................................',\n",
       " '.............................d....................',\n",
       " '.........4.e.......................DT.B...........',\n",
       " '....................d.....D......A...........B....',\n",
       " '.............K....................................',\n",
       " '...........................k......................',\n",
       " '...w..............4.....................y.........',\n",
       " '........w.........................................',\n",
       " '..............g..k..............d..........y......',\n",
       " '.....w.....Q..............................T.......',\n",
       " '...............b..........k................6......',\n",
       " '.................................W...T............',\n",
       " '................w..............BW..T..............',\n",
       " '............g....4e.....................W.........',\n",
       " '.......1.................g.......................W',\n",
       " '........k..........................6.....0........',\n",
       " '.................a................................',\n",
       " '....................4.a........3.g..............7.',\n",
       " '.............m........................I.0.........',\n",
       " '..............K7..............V...................',\n",
       " '....Q................................I............',\n",
       " '..9........b......................I...............',\n",
       " '...................d..............................',\n",
       " '.......e..........................................',\n",
       " '....e...........t..E................3.............',\n",
       " '......1..aQ........t....v.....3..........I..0.....',\n",
       " '...........................v.t.....3.7............',\n",
       " '..........i.......m........M......................',\n",
       " '...Q..29..a...................m...................',\n",
       " '...9......q..........mt...........................',\n",
       " '....1...............Y.....M.........7.............',\n",
       " '..........b..1...E.v..Y...........................',\n",
       " '................v..........q...............0......',\n",
       " '..................E.................5.............',\n",
       " '9...i..2b................................8........',\n",
       " '.....q..2............Y..M.........................',\n",
       " '............q...............................V.....',\n",
       " '...i.................................V............',\n",
       " '.i..............E............M....................',\n",
       " '.........................................G........',\n",
       " '............8................Y....................',\n",
       " '.........2................8..............5........',\n",
       " '......................................5....V......',\n",
       " '............................................G.....',\n",
       " '.....................................5...........G',\n",
       " '.................................8................']"
      ]
     },
     "execution_count": 43,
     "metadata": {},
     "output_type": "execute_result"
    }
   ],
   "source": [
    "grid"
   ]
  },
  {
   "cell_type": "code",
   "execution_count": 44,
   "metadata": {},
   "outputs": [],
   "source": [
    "rows, cols = len(grid), len(grid[0])"
   ]
  },
  {
   "cell_type": "markdown",
   "metadata": {},
   "source": [
    "## Part 1"
   ]
  },
  {
   "cell_type": "code",
   "execution_count": 45,
   "metadata": {},
   "outputs": [],
   "source": [
    "from collections import defaultdict"
   ]
  },
  {
   "cell_type": "code",
   "execution_count": 46,
   "metadata": {},
   "outputs": [],
   "source": [
    "antennas = defaultdict(list)"
   ]
  },
  {
   "cell_type": "code",
   "execution_count": 47,
   "metadata": {},
   "outputs": [],
   "source": [
    "# Finding each unique antenna location\n",
    "for r in range(rows):\n",
    "    for c in range(cols):\n",
    "        \n",
    "        char = grid[r][c]\n",
    "        \n",
    "        if char != '.': # Record only antenna locations\n",
    "            antennas[char].append((r, c))"
   ]
  },
  {
   "cell_type": "code",
   "execution_count": 48,
   "metadata": {},
   "outputs": [
    {
     "data": {
      "text/plain": [
       "dict_items([('K', [(0, 10), (1, 1), (8, 13), (23, 14)]), ('A', [(0, 35), (1, 34), (2, 44), (7, 33)]), ('D', [(2, 38), (3, 49), (6, 35), (7, 26)]), ('6', [(3, 36), (14, 43), (19, 35)]), ('d', [(5, 29), (7, 20), (12, 32), (26, 19)]), ('4', [(6, 9), (10, 18), (17, 17), (21, 20)]), ('e', [(6, 11), (17, 18), (27, 7), (28, 4)]), ('T', [(6, 36), (13, 42), (15, 37), (16, 35)]), ('B', [(6, 38), (7, 45), (16, 31)]), ('k', [(9, 27), (12, 17), (14, 26), (19, 8)]), ('w', [(10, 3), (11, 8), (13, 5), (16, 16)]), ('y', [(10, 40), (12, 43)]), ('g', [(12, 14), (17, 12), (18, 25), (21, 33)]), ('Q', [(13, 11), (24, 4), (29, 10), (32, 3)]), ('b', [(14, 15), (25, 11), (35, 10), (38, 8)]), ('W', [(15, 33), (16, 32), (17, 40), (18, 49)]), ('1', [(18, 7), (29, 6), (34, 4), (35, 13)]), ('0', [(19, 41), (22, 40), (29, 44), (36, 43)]), ('a', [(20, 17), (21, 22), (29, 9), (32, 10)]), ('3', [(21, 31), (28, 36), (29, 30), (30, 35)]), ('7', [(21, 48), (23, 15), (30, 37), (34, 36)]), ('m', [(22, 13), (31, 18), (32, 30), (33, 21)]), ('I', [(22, 38), (24, 37), (25, 34), (29, 41)]), ('V', [(23, 30), (40, 44), (41, 37), (46, 43)]), ('9', [(25, 2), (32, 7), (33, 3), (38, 0)]), ('t', [(28, 16), (29, 19), (30, 29), (33, 22)]), ('E', [(28, 19), (35, 17), (37, 18), (42, 16)]), ('v', [(29, 24), (30, 27), (35, 19), (36, 16)]), ('i', [(31, 10), (38, 4), (41, 3), (42, 1)]), ('M', [(31, 27), (34, 26), (39, 24), (42, 29)]), ('2', [(32, 6), (38, 7), (39, 8), (45, 9)]), ('q', [(33, 10), (36, 27), (39, 5), (40, 12)]), ('Y', [(34, 20), (35, 22), (39, 21), (44, 29)]), ('5', [(37, 36), (45, 41), (46, 38), (48, 37)]), ('8', [(38, 41), (44, 12), (45, 26), (49, 33)]), ('G', [(43, 41), (47, 44), (48, 49)])])"
      ]
     },
     "execution_count": 48,
     "metadata": {},
     "output_type": "execute_result"
    }
   ],
   "source": [
    "antennas.items()"
   ]
  },
  {
   "cell_type": "code",
   "execution_count": 49,
   "metadata": {},
   "outputs": [],
   "source": [
    "# For each pair of antennas per freq, generate all points in between\n",
    "def generate_line_points(a1, a2):\n",
    "    r1_pts, c1_pts = a1\n",
    "    r2_pts, c2_pts = a2\n",
    "\n",
    "    # Calculate differences and step sizes\n",
    "    dr = r2_pts - r1_pts\n",
    "    dc = c2_pts - c1_pts\n",
    "    gcd = abs(dr) if dc == 0 else abs(dc)\n",
    "    step_r = dr // gcd\n",
    "    step_c = dc // gcd\n",
    "\n",
    "    # Generate all points between a1 and a2\n",
    "    points = []\n",
    "    for i in range(gcd + 1):\n",
    "        points.append((r1_pts + i * step_r, c1_pts + i * step_c))\n",
    "        \n",
    "    return points"
   ]
  },
  {
   "cell_type": "code",
   "execution_count": 50,
   "metadata": {},
   "outputs": [],
   "source": [
    "antinodes = set()\n",
    "\n",
    "for r in range(rows):\n",
    "    for c in range(cols):\n",
    "        for freq, positions in antennas.items():\n",
    "            for i in range(len(positions)):\n",
    "                for j in range(i + 1, len(positions)):\n",
    "                    \n",
    "                    p1, p2 = positions[i], positions[j]\n",
    "                    \n",
    "                    r1, c1 = p1\n",
    "                    r2, c2 = p2\n",
    "                    \n",
    "                    #is_collinear = True\n",
    "                    distance_condition = True\n",
    "                    \n",
    "                    # Collinearity check using determinant method\n",
    "                    dr1, dc1 = r - r1, c - c1\n",
    "                    dr2, dc2 = r2 - r, c2 - c\n",
    "                    if dr1 * dc2 != dr2 * dc1:  # Not collinear\n",
    "                        is_collinear = False\n",
    "                    \n",
    "                    # Manhattan distance condition\n",
    "                    d1 = abs(r - r1) + abs(c - c1)\n",
    "                    d2 = abs(r - r2) + abs(c - c2)\n",
    "                    if d1 != 2 * d2 and d2 != 2 * d1:\n",
    "                        distance_condition = False\n",
    "                        \n",
    "                    if is_collinear and distance_condition:\n",
    "                        antinodes.add((r, c))"
   ]
  },
  {
   "cell_type": "code",
   "execution_count": 40,
   "metadata": {},
   "outputs": [],
   "source": [
    "antinodes = set()\n",
    "for freq, positions in antennas.items():\n",
    "    for i in range(len(positions)):\n",
    "        for j in range(i + 1, len(positions)):\n",
    "            \n",
    "            # Generates pair of antenna positions for given freq\n",
    "            p1, p2 = positions[i], positions[j]\n",
    "            for r, c in generate_line_points(p1, p2):\n",
    "                    \n",
    "                # Check if pair of antenna positions generates an antinode\n",
    "                r1, c1 = p1\n",
    "                r2, c2 = p2\n",
    "                                \n",
    "                        #is_collinear = True\n",
    "                distance_condition = True\n",
    "                                \n",
    "                        # Collinearity check using determinant method\n",
    "                        #dr1, dc1 = r - r1, c - c1\n",
    "                        #dr2, dc2 = r2 - r, c2 - c\n",
    "                        #if dr1 * dc2 != dr2 * dc1:  # Not collinear\n",
    "                        #    is_collinear = False\n",
    "                                \n",
    "                # Manhattan distance condition\n",
    "                d1 = abs(r - r1) + abs(c - c1)\n",
    "                d2 = abs(r - r2) + abs(c - c2)\n",
    "                if d1 == 2 * d2 or d2 == 2 * d1:\n",
    "                    antinodes.add((r, c))"
   ]
  }
 ],
 "metadata": {
  "kernelspec": {
   "display_name": "advent",
   "language": "python",
   "name": "python3"
  },
  "language_info": {
   "codemirror_mode": {
    "name": "ipython",
    "version": 3
   },
   "file_extension": ".py",
   "mimetype": "text/x-python",
   "name": "python",
   "nbconvert_exporter": "python",
   "pygments_lexer": "ipython3",
   "version": "3.12.7"
  }
 },
 "nbformat": 4,
 "nbformat_minor": 2
}
