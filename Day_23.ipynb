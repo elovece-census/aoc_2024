{
 "cells": [
  {
   "cell_type": "code",
   "execution_count": 1,
   "metadata": {},
   "outputs": [],
   "source": [
    "from itertools import combinations"
   ]
  },
  {
   "cell_type": "code",
   "execution_count": 2,
   "metadata": {},
   "outputs": [],
   "source": [
    "with open(\"Data/Day_23_content.txt\") as file:\n",
    "    input_data = [line.strip() for line in file.readlines()]"
   ]
  },
  {
   "cell_type": "markdown",
   "metadata": {},
   "source": [
    "## Part 1"
   ]
  },
  {
   "cell_type": "code",
   "execution_count": 3,
   "metadata": {},
   "outputs": [],
   "source": [
    "# Parse input into graph representation\n",
    "graph = {}\n",
    "for line in input_data:\n",
    "    a, b = line.split(\"-\")\n",
    "    if a not in graph:\n",
    "        graph[a] = set()\n",
    "    if b not in graph:\n",
    "        graph[b] = set()\n",
    "    graph[a].add(b)\n",
    "    graph[b].add(a)"
   ]
  },
  {
   "cell_type": "code",
   "execution_count": 4,
   "metadata": {},
   "outputs": [],
   "source": [
    "# Find all triangles in graph\n",
    "all_triangles = []\n",
    "nodes = list(graph.keys())\n",
    "for a, b, c in combinations(nodes, 3):\n",
    "    if b in graph[a] and c in graph[a] and c in graph[b]:\n",
    "        all_triangles.append({a, b, c})"
   ]
  },
  {
   "cell_type": "code",
   "execution_count": 10,
   "metadata": {},
   "outputs": [
    {
     "data": {
      "text/plain": [
       "1337"
      ]
     },
     "execution_count": 10,
     "metadata": {},
     "output_type": "execute_result"
    }
   ],
   "source": [
    "# Number of triangles where at least one node starts with \"t\"\n",
    "len([tri for tri in all_triangles if any(node.startswith(\"t\") for node in tri)])"
   ]
  },
  {
   "cell_type": "markdown",
   "metadata": {},
   "source": [
    "## Part 2"
   ]
  },
  {
   "cell_type": "code",
   "execution_count": 7,
   "metadata": {},
   "outputs": [],
   "source": [
    "def bron_kerbosch(graph, r, p, x, cliques):\n",
    "    \"\"\"Bron-Kerbosch recursive algorithm to find maximal cliques.\"\"\"\n",
    "    if not p and not x:\n",
    "        cliques.append(r)\n",
    "        return\n",
    "    for node in list(p):\n",
    "        bron_kerbosch(graph, r.union([node]), p.intersection(graph[node]),\n",
    "                      x.intersection(graph[node]), cliques)\n",
    "        p.remove(node)\n",
    "        x.add(node)"
   ]
  },
  {
   "cell_type": "code",
   "execution_count": 8,
   "metadata": {},
   "outputs": [
    {
     "name": "stdout",
     "output_type": "stream",
     "text": [
      "aw,fk,gv,hi,hp,ip,jy,kc,lk,og,pj,re,sr\n"
     ]
    }
   ],
   "source": [
    "# Find the largest set of nodes all connected to each other\n",
    "cliques = []\n",
    "bron_kerbosch(graph, set(), set(graph.keys()), set(), cliques)\n",
    "largest_clique = sorted(max(cliques, key=len)) if cliques else []\n",
    "print(\",\".join(largest_clique))"
   ]
  }
 ],
 "metadata": {
  "kernelspec": {
   "display_name": "advent",
   "language": "python",
   "name": "python3"
  },
  "language_info": {
   "codemirror_mode": {
    "name": "ipython",
    "version": 3
   },
   "file_extension": ".py",
   "mimetype": "text/x-python",
   "name": "python",
   "nbconvert_exporter": "python",
   "pygments_lexer": "ipython3",
   "version": "3.12.7"
  }
 },
 "nbformat": 4,
 "nbformat_minor": 2
}
